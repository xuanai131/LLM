{
 "cells": [
  {
   "cell_type": "code",
   "execution_count": 1,
   "metadata": {},
   "outputs": [],
   "source": [
    "from langchain_core.prompts import PromptTemplate\n",
    "from langchain_openai import OpenAI\n",
    "import sys\n",
    "sys.path.append('../')\n",
    "import API_keys\n",
    "\n",
    "\n",
    "prompt_template = \"Bạn là một trợ lí thông minh chuyên hỗ trợ trong thư viện, giúp người dùng tìm kiếm sách\\\n",
    "                    Công việc của bạn là phân tích ý định của người dùng thông qua yêu cầu của họ\\\n",
    "                Tell me a {adjective} joke\"\n",
    "prompt = PromptTemplate(\n",
    "    input_variables=[\"adjective\"], template=prompt_template\n",
    ")\n",
    "llm = OpenAI()\n",
    "chain = prompt | llm\n"
   ]
  },
  {
   "cell_type": "code",
   "execution_count": null,
   "metadata": {},
   "outputs": [],
   "source": [
    "\n",
    "chain.invoke(\"your adjective here\")"
   ]
  },
  {
   "cell_type": "markdown",
   "metadata": {},
   "source": [
    "# SELF QUERYING"
   ]
  },
  {
   "cell_type": "code",
   "execution_count": 2,
   "metadata": {},
   "outputs": [],
   "source": [
    "from langchain_community.vectorstores import Chroma\n",
    "from langchain_core.documents import Document\n",
    "from langchain_openai import OpenAIEmbeddings\n",
    "import sys\n",
    "sys.path.append('../')\n",
    "import API_keys\n",
    "\n",
    "docs = [\n",
    "    Document(\n",
    "        page_content=\"Tâm bệnh học\",\n",
    "        metadata={\"type\": \"Y học - sức khỏe\", \"keywords\": \"Điều trị, Tâm bệnh học\", \"published_year\": 2013},\n",
    "    ),\n",
    "    Document(\n",
    "        page_content=\"Giáo trình can thiệp sớm cho trẻ khuyết tật\",\n",
    "        metadata={\"type\": \"Khoa học xã hội\", \"keywords\": \"Can thiệp sớm, Giáo dục, Trẻ khuyết tật\", \"published_year\": 2015},\n",
    "    ),\n",
    "    Document(\n",
    "        page_content=\"Tâm lý học giao tiếp\",\n",
    "        metadata={\"type\": \"Khoa học xã hội\", \"keywords\": \"Giao tiếp, Tâm lý học\", \"published_year\": 2016},\n",
    "    ),\n",
    "    Document(\n",
    "        page_content=\"Kỹ thuật cháy\",\n",
    "        metadata={\"type\": \"Khoa học tự nhiên\", \"keywords\": \"Điều trị, Tâm bệnh học\", \"author\": \"Hoàng Ngọc Đồng (ch.b); Phạm Duy Vũ\", \"published_year\": 2019},\n",
    "    ),\n",
    "    Document(\n",
    "        page_content=\"CẤU TẠO CỦA PHỨC CHẤT\",\n",
    "        metadata={\"type\": \"Ngôn ngữ\", \"keywords\": \"Điều trị, Tâm bệnh học\", \"author\": \"Lục Thị Thu Hoài\", \"published_year\": 2024},\n",
    "    ),\n",
    "]\n",
    "vectorstore = Chroma.from_documents(docs, OpenAIEmbeddings())"
   ]
  },
  {
   "cell_type": "code",
   "execution_count": 3,
   "metadata": {},
   "outputs": [],
   "source": [
    "from langchain.chains.query_constructor.base import AttributeInfo\n",
    "from langchain.retrievers.self_query.base import SelfQueryRetriever\n",
    "from langchain_openai import ChatOpenAI\n",
    "\n",
    "metadata_field_info = [\n",
    "    AttributeInfo(\n",
    "        name=\"type\",\n",
    "        description=\"The kind of book\",\n",
    "        type=\"string\",\n",
    "    ),\n",
    "    AttributeInfo(\n",
    "        name=\"keywords\",\n",
    "        description=\"The keywords that can related to the book\",\n",
    "        type=\"integer\",\n",
    "    ),\n",
    "    AttributeInfo(\n",
    "        name=\"author\",\n",
    "        description=\"The authors of the book\",\n",
    "        type=\"string\",\n",
    "    ),\n",
    "    AttributeInfo(\n",
    "        name=\"published_year\",\n",
    "        description=\"The year of publication\",\n",
    "        type=\"integer\",\n",
    "    ),\n",
    "]\n",
    "document_content_description = \"Name of the book\"\n",
    "llm = ChatOpenAI(temperature=0)\n",
    "retriever = SelfQueryRetriever.from_llm(\n",
    "    llm,\n",
    "    vectorstore,\n",
    "    document_content_description,\n",
    "    metadata_field_info,\n",
    ")"
   ]
  },
  {
   "cell_type": "code",
   "execution_count": 10,
   "metadata": {},
   "outputs": [
    {
     "data": {
      "text/plain": [
       "[Document(page_content='Tâm lý học giao tiếp', metadata={'keywords': 'Giao tiếp, Tâm lý học', 'type': 'Khoa học xã hội'}),\n",
       " Document(page_content='Giáo trình can thiệp sớm cho trẻ khuyết tật', metadata={'keywords': 'Can thiệp sớm, Giáo dục, Trẻ khuyết tật', 'type': 'Khoa học xã hội'}),\n",
       " Document(page_content='Tâm bệnh học', metadata={'keywords': 'Điều trị, Tâm bệnh học', 'type': 'Y học - sức khỏe'}),\n",
       " Document(page_content='CẤU TẠO CỦA PHỨC CHẤT', metadata={'author': 'Lục Thị Thu Hoài', 'keywords': 'Điều trị, Tâm bệnh học', 'type': 'Ngôn ngữ'})]"
      ]
     },
     "execution_count": 10,
     "metadata": {},
     "output_type": "execute_result"
    }
   ],
   "source": [
    "# This example specifies a query and composite filter\n",
    "retriever.invoke(\n",
    "    \"cuốn sách mà có tác giả là Lục Thị Hoài Thu\"\n",
    ")"
   ]
  },
  {
   "cell_type": "code",
   "execution_count": 10,
   "metadata": {},
   "outputs": [
    {
     "data": {
      "text/plain": [
       "[Document(page_content='Toys come alive and have a blast doing so', metadata={'genre': 'animated', 'year': 1995}),\n",
       " Document(page_content='Toys come alive and have a blast doing so', metadata={'genre': 'animated', 'year': 1995}),\n",
       " Document(page_content='A bunch of scientists bring back dinosaurs and mayhem breaks loose', metadata={'genre': 'science fiction', 'rating': 7.7, 'year': 1993}),\n",
       " Document(page_content='A bunch of scientists bring back dinosaurs and mayhem breaks loose', metadata={'genre': 'science fiction', 'rating': 7.7, 'year': 1993})]"
      ]
     },
     "execution_count": 10,
     "metadata": {},
     "output_type": "execute_result"
    }
   ],
   "source": [
    "# This example specifies a query and a filter\n",
    "retriever.invoke(\"list 2 movies with animate genre\")"
   ]
  },
  {
   "cell_type": "code",
   "execution_count": 14,
   "metadata": {},
   "outputs": [],
   "source": [
    "metadata_field_info = {\n",
    "    \"content\": \"Lyrics of a song\",\n",
    "    \"attributes\": {\n",
    "        \"artist\": {\n",
    "            \"type\": \"string\",\n",
    "            \"description\": \"Name of the song artist\"\n",
    "        },\n",
    "        \"length\": {\n",
    "            \"type\": \"integer\",\n",
    "            \"description\": \"Length of the song in seconds\"\n",
    "        },\n",
    "        \"genre\": {\n",
    "            \"type\": \"string\",\n",
    "            \"description\": \"The song genre, one of 'pop', 'rock' or 'rap'\"\n",
    "        }\n",
    "    }\n",
    "}"
   ]
  },
  {
   "cell_type": "code",
   "execution_count": 4,
   "metadata": {},
   "outputs": [],
   "source": [
    "from langchain.chains.query_constructor.base import (\n",
    "    StructuredQueryOutputParser,\n",
    "    get_query_constructor_prompt,\n",
    ")\n",
    "\n",
    "prompt = get_query_constructor_prompt(\n",
    "    document_content_description,\n",
    "    metadata_field_info,\n",
    ")\n",
    "output_parser = StructuredQueryOutputParser.from_components()\n",
    "query_constructor = prompt | llm | output_parser"
   ]
  },
  {
   "cell_type": "code",
   "execution_count": 6,
   "metadata": {},
   "outputs": [
    {
     "name": "stdout",
     "output_type": "stream",
     "text": [
      "Your goal is to structure the user's query to match the request schema provided below.\n",
      "\n",
      "<< Structured Request Schema >>\n",
      "When responding use a markdown code snippet with a JSON object formatted in the following schema:\n",
      "\n",
      "```json\n",
      "{\n",
      "    \"query\": string \\ text string to compare to document contents\n",
      "    \"filter\": string \\ logical condition statement for filtering documents\n",
      "}\n",
      "```\n",
      "\n",
      "The query string should contain only text that is expected to match the contents of documents. Any conditions in the filter should not be mentioned in the query as well.\n",
      "\n",
      "A logical condition statement is composed of one or more comparison and logical operation statements.\n",
      "\n",
      "A comparison statement takes the form: `comp(attr, val)`:\n",
      "- `comp` (eq | ne | gt | gte | lt | lte | contain | like | in | nin): comparator\n",
      "- `attr` (string):  name of attribute to apply the comparison to\n",
      "- `val` (string): is the comparison value\n",
      "\n",
      "A logical operation statement takes the form `op(statement1, statement2, ...)`:\n",
      "- `op` (and | or | not): logical operator\n",
      "- `statement1`, `statement2`, ... (comparison statements or logical operation statements): one or more statements to apply the operation to\n",
      "\n",
      "Make sure that you only use the comparators and logical operators listed above and no others.\n",
      "Make sure that filters only refer to attributes that exist in the data source.\n",
      "Make sure that filters only use the attributed names with its function names if there are functions applied on them.\n",
      "Make sure that filters only use format `YYYY-MM-DD` when handling date data typed values.\n",
      "Make sure that filters take into account the descriptions of attributes and only make comparisons that are feasible given the type of data being stored.\n",
      "Make sure that filters are only used as needed. If there are no filters that should be applied return \"NO_FILTER\" for the filter value.\n",
      "\n",
      "<< Example 1. >>\n",
      "Data Source:\n",
      "```json\n",
      "{\n",
      "    \"content\": \"Lyrics of a song\",\n",
      "    \"attributes\": {\n",
      "        \"artist\": {\n",
      "            \"type\": \"string\",\n",
      "            \"description\": \"Name of the song artist\"\n",
      "        },\n",
      "        \"length\": {\n",
      "            \"type\": \"integer\",\n",
      "            \"description\": \"Length of the song in seconds\"\n",
      "        },\n",
      "        \"genre\": {\n",
      "            \"type\": \"string\",\n",
      "            \"description\": \"The song genre, one of \"pop\", \"rock\" or \"rap\"\"\n",
      "        }\n",
      "    }\n",
      "}\n",
      "```\n",
      "\n",
      "User Query:\n",
      "What are songs by Taylor Swift or Katy Perry about teenage romance under 3 minutes long in the dance pop genre\n",
      "\n",
      "Structured Request:\n",
      "```json\n",
      "{\n",
      "    \"query\": \"teenager love\",\n",
      "    \"filter\": \"and(or(eq(\\\"artist\\\", \\\"Taylor Swift\\\"), eq(\\\"artist\\\", \\\"Katy Perry\\\")), lt(\\\"length\\\", 180), eq(\\\"genre\\\", \\\"pop\\\"))\"\n",
      "}\n",
      "```\n",
      "\n",
      "\n",
      "<< Example 2. >>\n",
      "Data Source:\n",
      "```json\n",
      "{\n",
      "    \"content\": \"Lyrics of a song\",\n",
      "    \"attributes\": {\n",
      "        \"artist\": {\n",
      "            \"type\": \"string\",\n",
      "            \"description\": \"Name of the song artist\"\n",
      "        },\n",
      "        \"length\": {\n",
      "            \"type\": \"integer\",\n",
      "            \"description\": \"Length of the song in seconds\"\n",
      "        },\n",
      "        \"genre\": {\n",
      "            \"type\": \"string\",\n",
      "            \"description\": \"The song genre, one of \"pop\", \"rock\" or \"rap\"\"\n",
      "        }\n",
      "    }\n",
      "}\n",
      "```\n",
      "\n",
      "User Query:\n",
      "What are songs that were not published on Spotify\n",
      "\n",
      "Structured Request:\n",
      "```json\n",
      "{\n",
      "    \"query\": \"\",\n",
      "    \"filter\": \"NO_FILTER\"\n",
      "}\n",
      "```\n",
      "\n",
      "\n",
      "<< Example 3. >>\n",
      "Data Source:\n",
      "```json\n",
      "{\n",
      "    \"content\": \"Name of the book\",\n",
      "    \"attributes\": {\n",
      "    \"type\": {\n",
      "        \"description\": \"The kind of book\",\n",
      "        \"type\": \"string\"\n",
      "    },\n",
      "    \"keywords\": {\n",
      "        \"description\": \"The keywords that can related to the book\",\n",
      "        \"type\": \"integer\"\n",
      "    },\n",
      "    \"author\": {\n",
      "        \"description\": \"The authors of the book\",\n",
      "        \"type\": \"string\"\n",
      "    },\n",
      "    \"published_year\": {\n",
      "        \"description\": \"The year of publication\",\n",
      "        \"type\": \"string\"\n",
      "    }\n",
      "}\n",
      "}\n",
      "```\n",
      "\n",
      "User Query:\n",
      "the book was publish after 2020\n",
      "\n",
      "Structured Request:\n",
      "\n"
     ]
    }
   ],
   "source": [
    "print(prompt.format(query=\"the book was publish after 2020\"))"
   ]
  },
  {
   "cell_type": "code",
   "execution_count": 16,
   "metadata": {},
   "outputs": [
    {
     "data": {
      "text/plain": [
       "StructuredQuery(query='y tế', filter=None, limit=None)"
      ]
     },
     "execution_count": 16,
     "metadata": {},
     "output_type": "execute_result"
    }
   ],
   "source": [
    "query_constructor.invoke(\"type y tế\")"
   ]
  },
  {
   "cell_type": "code",
   "execution_count": 6,
   "metadata": {},
   "outputs": [],
   "source": [
    "from langchain.retrievers.self_query.chroma import ChromaTranslator\n",
    "\n",
    "retriever = SelfQueryRetriever(\n",
    "    query_constructor=query_constructor,\n",
    "    vectorstore=vectorstore,\n",
    "    structured_query_translator=ChromaTranslator(),\n",
    ")"
   ]
  },
  {
   "cell_type": "code",
   "execution_count": 21,
   "metadata": {},
   "outputs": [
    {
     "data": {
      "text/plain": [
       "[Document(page_content='Tâm lý học giao tiếp', metadata={'keywords': 'Giao tiếp, Tâm lý học', 'published_year': 2016, 'type': 'Khoa học xã hội'}),\n",
       " Document(page_content='Tâm bệnh học', metadata={'keywords': 'Điều trị, Tâm bệnh học', 'published_year': 2013, 'type': 'Y học - sức khỏe'}),\n",
       " Document(page_content='CẤU TẠO CỦA PHỨC CHẤT', metadata={'author': 'Lục Thị Thu Hoài', 'keywords': 'Điều trị, Tâm bệnh học', 'published_year': 2024, 'type': 'Ngôn ngữ'}),\n",
       " Document(page_content='Giáo trình can thiệp sớm cho trẻ khuyết tật', metadata={'keywords': 'Can thiệp sớm, Giáo dục, Trẻ khuyết tật', 'published_year': 2015, 'type': 'Khoa học xã hội'})]"
      ]
     },
     "execution_count": 21,
     "metadata": {},
     "output_type": "execute_result"
    }
   ],
   "source": [
    "retriever.invoke(\"tác giả Lê Thị Thu Hoài\")"
   ]
  },
  {
   "cell_type": "code",
   "execution_count": null,
   "metadata": {},
   "outputs": [],
   "source": []
  },
  {
   "cell_type": "code",
   "execution_count": 1,
   "metadata": {},
   "outputs": [],
   "source": [
    "import sys\n",
    "sys.path.append('../')\n",
    "import API_keys\n",
    "from methods import *\n",
    "from langchain_community.vectorstores import Chroma\n",
    "from langchain_openai import OpenAIEmbeddings\n",
    "from langchain.storage import InMemoryStore, LocalFileStore\n",
    "from langchain.storage._lc_store import create_kv_docstore\n",
    "from langchain.text_splitter import RecursiveCharacterTextSplitter\n",
    "\n",
    "parent_splitter = RecursiveCharacterTextSplitter(chunk_size=1024, chunk_overlap= 20, separators=[\" {'\"])\n",
    "child_splitter = RecursiveCharacterTextSplitter(\n",
    "                separators=[\"\\n\",\"\\n\\n\" \"\\\\n\", \"\\\\n\\\\n\", '\",', '. '],\n",
    "                chunk_size=120,\n",
    "                chunk_overlap=20,\n",
    "                length_function=len,\n",
    "                is_separator_regex=False,\n",
    "            )\n",
    "\n",
    "db = Chroma(collection_name=\"split_parents\", persist_directory='child', embedding_function=OpenAIEmbeddings(chunk_size=1))\n",
    "fs1 = LocalFileStore(\"parent\")\n",
    "parent_store = create_kv_docstore(fs1)\n",
    "fs2 = LocalFileStore(\"grandparent\")\n",
    "grandparent_store = create_kv_docstore(fs2)"
   ]
  },
  {
   "cell_type": "code",
   "execution_count": 5,
   "metadata": {},
   "outputs": [],
   "source": [
    "retriever = CustomParentDocumentRetriever(\n",
    "                vectorstore=db,\n",
    "                docstore=parent_store,\n",
    "                docstore2=grandparent_store,\n",
    "                parent_splitter=parent_splitter\n",
    "            )"
   ]
  },
  {
   "cell_type": "code",
   "execution_count": 32,
   "metadata": {},
   "outputs": [],
   "source": [
    "doc = Document(page_content='Phạm Xuân Ái', metadata={'MSSV': 20134011})"
   ]
  },
  {
   "cell_type": "code",
   "execution_count": 33,
   "metadata": {},
   "outputs": [],
   "source": [
    "retriever.docstore2.mset([('ai', doc)])"
   ]
  },
  {
   "cell_type": "code",
   "execution_count": 34,
   "metadata": {},
   "outputs": [
    {
     "data": {
      "text/plain": [
       "[Document(page_content='Phạm Xuân Ái', metadata={'MSSV': 20134011})]"
      ]
     },
     "execution_count": 34,
     "metadata": {},
     "output_type": "execute_result"
    }
   ],
   "source": [
    "retriever.docstore2.mget(['ai'])"
   ]
  },
  {
   "cell_type": "code",
   "execution_count": 7,
   "metadata": {},
   "outputs": [],
   "source": [
    "import json\n",
    "json_file = '/home/xuanai/LLM/Bot/Knowledge/Books/Json/sample.json'\n",
    "jq_schema = 'book_infos'\n",
    "documents = json.loads(Path(json_file).read_text())[jq_schema]"
   ]
  },
  {
   "cell_type": "code",
   "execution_count": 13,
   "metadata": {},
   "outputs": [
    {
     "data": {
      "text/plain": [
       "{'Tên sách': 'Sổ tay hướng dẫn sử dụng dịch vụ Thư viện',\n",
       " 'Loại sách': 'UTE. Thông tin -Thư viện',\n",
       " 'ID': 1,\n",
       " 'Keyword': ['Từ khóa: Thư viện, Sổ tay, Dịch vụ'],\n",
       " 'Mô tả': 'Nhằm góp phần phục vụ tốt nhất cho người dùng trong quá trình sử dụng dịch vụ thư viện, Tổ tư vấn viên đã biên soạn cuốn “Sổ tay tư vấn và hướng dẫn sử dụng thư viện” cung cấp những thông tin bao quát và chi tiết về Thư viện, giúp quá trình tìm kiếm và tiếp cận nguồn tài nguyên thông tin của người dùng trở nên nhanh chóng, chính xác và dễ dàng nhất đáp ứng cho người dạy và người học những tài liệu để nghiên cứu, giảng dạy và học tập.',\n",
       " 'Vị trí': 'Kệ số 1',\n",
       " 'Nội dung đầu sách': '/Knowledge/Books/PDF/UTE. Thông tin -Thư viện/final_so_tay_thu_vien_nh23_24_8223.pdf'}"
      ]
     },
     "execution_count": 13,
     "metadata": {},
     "output_type": "execute_result"
    }
   ],
   "source": [
    "documents[0]"
   ]
  }
 ],
 "metadata": {
  "kernelspec": {
   "display_name": "LLM2",
   "language": "python",
   "name": "python3"
  },
  "language_info": {
   "codemirror_mode": {
    "name": "ipython",
    "version": 3
   },
   "file_extension": ".py",
   "mimetype": "text/x-python",
   "name": "python",
   "nbconvert_exporter": "python",
   "pygments_lexer": "ipython3",
   "version": "3.10.14"
  }
 },
 "nbformat": 4,
 "nbformat_minor": 2
}
