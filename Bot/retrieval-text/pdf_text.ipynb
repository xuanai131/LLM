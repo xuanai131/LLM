{
 "cells": [
  {
   "cell_type": "code",
   "execution_count": null,
   "metadata": {},
   "outputs": [],
   "source": [
    "import fitz\n",
    "\n",
    "pdf_document = \"books/pdf_folder/gt_lap_trinh_python_can_ban.pdf\"\n",
    "doc = fitz.open(pdf_document)\n",
    "\n",
    "for page_num in range(doc.page_count):\n",
    "    page = doc[page_num]\n",
    "    text = page.get_text(\"text\")\n",
    "    print(text)\n",
    "\n",
    "doc.close()"
   ]
  },
  {
   "cell_type": "code",
<<<<<<< HEAD
   "execution_count": 3,
=======
   "execution_count": 43,
>>>>>>> vu
   "metadata": {},
   "outputs": [],
   "source": [
    "# file_path = \"books/pdf_folder/gt_lap_trinh_python_can_ban.pdf\"\n",
<<<<<<< HEAD
    "file_path = \"/home/xuanai/html/Bot/Knowledge/Books/PDF/gt_co_so_cong_nghe_che_tao_may.pdf\"\n",
=======
    "file_path = \"/home/xuanai/html/Bot/rerievel-text/books/pdf_folder/gt_co_so_cong_nghe_che_tao_may.pdf\"\n",
>>>>>>> vu
    "# file_path = \"/home/xuanai/html/Bot/rerievel-text/books/pdf_folder/cac_phuong_phap_co_ban_trong_danh_gia_cam_quan_thuc_pham.pdf\""
   ]
  },
  {
   "cell_type": "code",
<<<<<<< HEAD
   "execution_count": 4,
=======
   "execution_count": 44,
>>>>>>> vu
   "metadata": {},
   "outputs": [],
   "source": [
    "from langchain_community.document_loaders.pdf import UnstructuredPDFLoader\n",
    "from langchain.text_splitter import RecursiveCharacterTextSplitter\n",
    "\n",
    "pdf_loader = UnstructuredPDFLoader(file_path)\n",
    "doc_texts = pdf_loader.load()"
   ]
  },
  {
   "cell_type": "code",
<<<<<<< HEAD
   "execution_count": 8,
   "metadata": {},
   "outputs": [
    {
     "data": {
      "text/plain": [
       "4670"
      ]
     },
     "execution_count": 8,
     "metadata": {},
     "output_type": "execute_result"
    }
   ],
   "source": [
    "len(doc_texts[0].page_content)"
   ]
  },
  {
   "cell_type": "code",
   "execution_count": 26,
   "metadata": {},
   "outputs": [
    {
     "name": "stdout",
     "output_type": "stream",
     "text": [
      "111111111111\n"
     ]
    }
   ],
   "source": [
    "try:\n",
    "    try:\n",
    "        # x = 1\n",
    "        print(a)\n",
    "    except:\n",
    "        prin(\"Something else went wrong\")\n",
    "except:\n",
    "    print(111111111111)"
   ]
  },
  {
   "cell_type": "code",
=======
>>>>>>> vu
   "execution_count": 45,
   "metadata": {},
   "outputs": [],
   "source": [
    "text_splitter = RecursiveCharacterTextSplitter(\n",
    "    separators=[\"\\n\",\"\\n\\n\" \"\\\\n\", \"FF0E FE00.\", \"\\\\n\\\\n\", '\",', '........', '. '],\n",
    "    chunk_size=120,\n",
    "    chunk_overlap=20,\n",
    "    length_function=len,\n",
    "    is_separator_regex=False,\n",
    ")"
   ]
  },
  {
   "cell_type": "code",
   "execution_count": 1,
   "metadata": {},
   "outputs": [],
   "source": [
    "\n",
    "import json\n",
    "from pathlib import Path\n",
    "from langchain.docstore.document import Document\n",
    "file_path = \"books/json_folder/books_2.json\"\n",
    "\n",
    "documents = json.loads(Path(file_path).read_text())\n",
    "txts = [str(i) for i in list(documents[\"book_infos\"])]\n",
    "doc_texts = [Document(str(documents))]"
   ]
  },
  {
   "cell_type": "code",
   "execution_count": null,
   "metadata": {},
   "outputs": [],
   "source": [
    "from langchain.text_splitter import RecursiveCharacterTextSplitter\n",
    "parent_splitter = RecursiveCharacterTextSplitter(chunk_size=1024, chunk_overlap= 20, separators=[\" {'\"])\n",
    "# parent_splitter = RecursiveCharacterTextSplitter(chunk_size=1024, chunk_overlap=20)\n",
    "texts = parent_splitter.split_documents([doc_texts])"
   ]
  },
  {
   "cell_type": "code",
   "execution_count": null,
   "metadata": {},
   "outputs": [],
   "source": [
    "print(len(texts))\n",
    "texts"
   ]
  },
  {
   "cell_type": "code",
   "execution_count": 1,
   "metadata": {},
   "outputs": [],
   "source": [
    "from langchain_community.vectorstores import Chroma\n",
    "from langchain_openai import OpenAIEmbeddings\n",
    "\n",
    "import sys\n",
    "sys.path.append(\"../\")\n",
    "import API_keys\n",
    "\n",
    "embedding=OpenAIEmbeddings(chunk_size=1)\n",
    "from methods import *\n",
    "from Global_variable import *\n",
    "\n",
    "BookInfoRetriever = RETRIEVER_CONFIG()\n",
    "BookInfo =  DATABASE(db_path=AbsoluteBotPath+'/vector_database/book_infos', \n",
    "                     embedding=embedding, \n",
    "                     parent_path=AbsoluteBotPath+\"/vector_database/book_parents\", \n",
    "                     retriever_config=BookInfoRetriever)"
   ]
  },
  {
   "cell_type": "code",
   "execution_count": 2,
   "metadata": {},
   "outputs": [
    {
     "name": "stderr",
     "output_type": "stream",
     "text": [
      "2024-05-03 17:12:37.570931: E external/local_xla/xla/stream_executor/cuda/cuda_dnn.cc:9261] Unable to register cuDNN factory: Attempting to register factory for plugin cuDNN when one has already been registered\n",
      "2024-05-03 17:12:37.571201: E external/local_xla/xla/stream_executor/cuda/cuda_fft.cc:607] Unable to register cuFFT factory: Attempting to register factory for plugin cuFFT when one has already been registered\n",
      "2024-05-03 17:12:37.645419: E external/local_xla/xla/stream_executor/cuda/cuda_blas.cc:1515] Unable to register cuBLAS factory: Attempting to register factory for plugin cuBLAS when one has already been registered\n",
      "2024-05-03 17:12:37.800165: I tensorflow/core/platform/cpu_feature_guard.cc:182] This TensorFlow binary is optimized to use available CPU instructions in performance-critical operations.\n",
      "To enable the following instructions: AVX2 FMA, in other operations, rebuild TensorFlow with the appropriate compiler flags.\n",
      "2024-05-03 17:12:39.245563: W tensorflow/compiler/tf2tensorrt/utils/py_utils.cc:38] TF-TRT Warning: Could not find TensorRT\n"
     ]
    }
   ],
   "source": [
    "BookInfo.insert_book(json_file=AbsoluteBotPath+\"/Knowledge/Books/Json/books.json\", jq_schema='book_infos', ids=None)"
   ]
  },
  {
   "cell_type": "code",
   "execution_count": 4,
   "metadata": {},
   "outputs": [
    {
     "data": {
      "text/plain": [
       "[None]"
      ]
     },
     "execution_count": 4,
     "metadata": {},
     "output_type": "execute_result"
    }
   ],
   "source": [
    "BookInfo.retriever.docstore.mget(['7df1ca01-02b1-4aaa-9756-e8a890c98f5a'])"
   ]
  },
  {
   "cell_type": "code",
   "execution_count": null,
   "metadata": {},
   "outputs": [],
   "source": [
    "fs = LocalFileStore(\"parents_3\")\n",
    "store = create_kv_docstore(fs)\n",
    "list(store.yield_keys())"
   ]
  },
  {
   "cell_type": "code",
   "execution_count": 15,
   "metadata": {},
   "outputs": [],
   "source": [
    "from langchain.chains.query_constructor.base import AttributeInfo\n",
    "from langchain.retrievers.self_query.base import SelfQueryRetriever\n",
    "from langchain_openai import ChatOpenAI\n",
    "document_content_description = \"Brief summary of a book\"\n",
    "metadata_field_info = [\n",
    "    AttributeInfo(\n",
    "        name=\"name\",\n",
    "        description=\"The name of a book\",\n",
    "        type=\"string\",\n",
    "    )]\n",
    "llm = ChatOpenAI(model=\"gpt-3.5-turbo-0125\")\n",
    "retriever = SelfQueryRetriever.from_llm(\n",
    "    llm,\n",
    "    BookInfo.db,\n",
    "    document_content_description,\n",
    "    metadata_field_info,\n",
    ")"
   ]
  },
  {
   "cell_type": "code",
   "execution_count": 10,
   "metadata": {},
   "outputs": [],
   "source": [
    "from langchain_openai import ChatOpenAI\n",
    "from langchain.tools.retriever import create_retriever_tool\n",
    "from langchain.chains import RetrievalQA\n",
    "\n",
    "\n",
    "retriever = BookInfo.db.as_retriever(\n",
    "    search_type=\"similarity_score_threshold\", search_kwargs={\"score_threshold\": 0.5, \"k\": 4}\n",
    ")\n",
    "llm = ChatOpenAI(model=\"gpt-3.5-turbo-0125\")\n",
    "chain = RetrievalQA.from_chain_type(llm=llm, chain_type='stuff', retriever= BookInfo.retriever, return_source_documents=True, verbose=True, input_key=\"question\")"
   ]
  },
  {
   "cell_type": "code",
   "execution_count": 10,
   "metadata": {},
   "outputs": [
    {
     "name": "stdout",
     "output_type": "stream",
     "text": [
      "\n",
      "\n",
      "\u001b[1m> Entering new RetrievalQA chain...\u001b[0m\n",
      ". Với phong cách rất đơn giản, thiết thực, dễ sử dụng của cuốn sách này làm cho nó giống như một cẩm nang hướng dẫn thực hành, một tài liệu tham khảo, một giáo trình hỗ trợ giảng dạy cho nhiều đối tượng bạn đọc.--Nội dung của giáo trình bao gồm hai phần với bảy chương được sắp xếp theo một trình tự logic, liên tiếp\n",
      ". Một số bài tập tình huống cũng được trình bày để sinh viên/người học có thể tìm hiểu, thảo luận thêm và thực hành lên các thiết kế thí nghiệm cảm quan phù hợp.--Tác giả hy vọng rằng cuốn sách này sẽ hữu ích cho nhiều độc giả khác nhau, bao gồm sinh viên, học viên cao học ngành Công nghệ thực phẩm, các kỹ sư, các doanh nghiệp và những đối tượng khác có quan tâm, giúp giải quyết các vấn đề một cách hiệu quả hơn liên quan tới quá trình sản xuất thực phẩm, sở thích và yêu cầu của người tiêu dùng.--Tác giả xin gửi lời cảm ơn chân thành tới PGS.TS\n",
      ". - 16--Hình 2-1 Lưu đồ của khối lệnh if. - 28--Hình 3-1 Lưu đồ hoạt động của vòng lặp while\n",
      ". Sau một học kỳ, hoặc vài tháng, thậm chí một năm sau, bạn sẽ ngạc nhiên khi gặp lại kiến thức lúc trước bạn thấy bế tắc: lúc này bạn hiểu nó rất rõ ràng! Vì vậy, đừng ngại khi học qua một lần mà chưa hiểu rõ.--Keep learning! ▪ Những lần đầu lập trình đôi khi giống học thuộc lòng, sao chép code\n",
      "result:  [Document(page_content=\"{'Tên sách': 'Các phương pháp cơ bản trong đánh giá cảm quan thực phẩm', 'Loại sách': 'Giáo trình', 'ID': '20134013', 'Tác giả': 'Phạm Thị Hoàn', 'Nhà xuất bản': 'Nhà Xuất Bản Đại Học Quốc Gia', 'Năm xuất bản': '2023', 'Vị trí': 'Kệ số 4', 'Nội dung đầu sách': '. Với phong cách rất đơn giản, thiết thực, dễ sử dụng của cuốn sách này làm cho nó giống như một cẩm nang hướng dẫn thực hành, một tài liệu tham khảo, một giáo trình hỗ trợ giảng dạy cho nhiều đối tượng bạn đọc.--Nội dung của giáo trình bao gồm hai phần với bảy chương được sắp xếp theo một trình tự logic, liên tiếp\\\\n\\\\n. Một số bài tập tình huống cũng được trình bày để sinh viên/người học có thể tìm hiểu, thảo luận thêm và thực hành lên các thiết kế thí nghiệm cảm quan phù hợp.--Tác giả hy vọng rằng cuốn sách này sẽ hữu ích cho nhiều độc giả khác nhau, bao gồm sinh viên, học viên cao học ngành Công nghệ thực phẩm, các kỹ sư, các doanh nghiệp và những đối tượng khác có quan tâm, giúp giải quyết các vấn đề một cách hiệu quả hơn liên quan tới quá trình sản xuất thực phẩm, sở thích và yêu cầu của người tiêu dùng.--Tác giả xin gửi lời cảm ơn chân thành tới PGS.TS'}\"), Document(page_content=\"{'Tên sách': 'Giáo trình lập trình python căn bản', 'Loại sách': 'Giáo trình', 'ID': '20134011', 'Tác giả': 'Trần Nhật Quang, Phạm Văn Khoa', 'Nhà xuất bản': 'Đại học Quốc gia Tp. Hồ Chí Minh', 'Năm xuất bản': '2023', 'Vị trí': 'kệ số 2', 'Nội dung đầu sách': '. - 16--Hình 2-1 Lưu đồ của khối lệnh if. - 28--Hình 3-1 Lưu đồ hoạt động của vòng lặp while\\\\n\\\\n. Sau một học kỳ, hoặc vài tháng, thậm chí một năm sau, bạn sẽ ngạc nhiên khi gặp lại kiến thức lúc trước bạn thấy bế tắc: lúc này bạn hiểu nó rất rõ ràng! Vì vậy, đừng ngại khi học qua một lần mà chưa hiểu rõ.--Keep learning! ▪ Những lần đầu lập trình đôi khi giống học thuộc lòng, sao chép code'}\")]\n",
      "\n",
      "\u001b[1m> Finished chain.\u001b[0m\n"
     ]
    },
    {
     "data": {
      "text/plain": [
       "{'question': 'cuốn sách dạy về vòng lặp while là loại sách gì',\n",
       " 'result': 'Cuốn sách dạy về vòng lặp while được mô tả trong đoạn văn là một \"Giáo trình\".',\n",
       " 'source_documents': [Document(page_content=\"{'Tên sách': 'Các phương pháp cơ bản trong đánh giá cảm quan thực phẩm', 'Loại sách': 'Giáo trình', 'ID': '20134013', 'Tác giả': 'Phạm Thị Hoàn', 'Nhà xuất bản': 'Nhà Xuất Bản Đại Học Quốc Gia', 'Năm xuất bản': '2023', 'Vị trí': 'Kệ số 4', 'Nội dung đầu sách': '. Với phong cách rất đơn giản, thiết thực, dễ sử dụng của cuốn sách này làm cho nó giống như một cẩm nang hướng dẫn thực hành, một tài liệu tham khảo, một giáo trình hỗ trợ giảng dạy cho nhiều đối tượng bạn đọc.--Nội dung của giáo trình bao gồm hai phần với bảy chương được sắp xếp theo một trình tự logic, liên tiếp\\\\n\\\\n. Một số bài tập tình huống cũng được trình bày để sinh viên/người học có thể tìm hiểu, thảo luận thêm và thực hành lên các thiết kế thí nghiệm cảm quan phù hợp.--Tác giả hy vọng rằng cuốn sách này sẽ hữu ích cho nhiều độc giả khác nhau, bao gồm sinh viên, học viên cao học ngành Công nghệ thực phẩm, các kỹ sư, các doanh nghiệp và những đối tượng khác có quan tâm, giúp giải quyết các vấn đề một cách hiệu quả hơn liên quan tới quá trình sản xuất thực phẩm, sở thích và yêu cầu của người tiêu dùng.--Tác giả xin gửi lời cảm ơn chân thành tới PGS.TS'}\"),\n",
       "  Document(page_content=\"{'Tên sách': 'Giáo trình lập trình python căn bản', 'Loại sách': 'Giáo trình', 'ID': '20134011', 'Tác giả': 'Trần Nhật Quang, Phạm Văn Khoa', 'Nhà xuất bản': 'Đại học Quốc gia Tp. Hồ Chí Minh', 'Năm xuất bản': '2023', 'Vị trí': 'kệ số 2', 'Nội dung đầu sách': '. - 16--Hình 2-1 Lưu đồ của khối lệnh if. - 28--Hình 3-1 Lưu đồ hoạt động của vòng lặp while\\\\n\\\\n. Sau một học kỳ, hoặc vài tháng, thậm chí một năm sau, bạn sẽ ngạc nhiên khi gặp lại kiến thức lúc trước bạn thấy bế tắc: lúc này bạn hiểu nó rất rõ ràng! Vì vậy, đừng ngại khi học qua một lần mà chưa hiểu rõ.--Keep learning! ▪ Những lần đầu lập trình đôi khi giống học thuộc lòng, sao chép code'}\")]}"
      ]
     },
     "execution_count": 10,
     "metadata": {},
     "output_type": "execute_result"
    }
   ],
   "source": [
    "chain.invoke(\"cuốn sách dạy về vòng lặp while là loại sách gì\")"
   ]
  },
  {
   "cell_type": "code",
   "execution_count": 2,
   "metadata": {},
   "outputs": [],
   "source": [
    "from langchain_community.vectorstores import Chroma\n",
    "\n",
    "import sys\n",
    "sys.path.append(\"../\")\n",
    "import API_keys\n",
    "from langchain_openai import OpenAIEmbeddings\n",
    "embedding=OpenAIEmbeddings(chunk_size=1)\n",
    "from methods import *\n",
    "\n",
    "\n",
    "# Load book_info database\n",
    "# BookInfo =  DATABASE(db_path='robot_knowledge_2', embedding=embedding, parent_path=\"parents_2\")\n",
    "BookInfo =  DATABASE(db_path='robot_knowledge_3', embedding=embedding, parent_path=\"parents_3\")\n",
    "\n",
    "\n",
    "\n",
    "##### CREATE AGENT FUNCTION\n",
    "from langchain_core.prompts import ChatPromptTemplate, MessagesPlaceholder\n",
    "from langchain.agents import AgentExecutor, create_openai_tools_agent\n",
    "from langchain_openai import ChatOpenAI\n",
    "llm = ChatOpenAI(model=\"gpt-3.5-turbo-0125\")\n",
    "def create_agent(llm: ChatOpenAI, tools: list, system_prompt: str):\n",
    "    # Each worker node will be given a name and some tools.\n",
    "    prompt = ChatPromptTemplate.from_messages(\n",
    "        [\n",
    "            (\n",
    "                \"system\",\n",
    "                system_prompt,\n",
    "            ),\n",
    "            MessagesPlaceholder(variable_name=\"messages\"),\n",
    "            MessagesPlaceholder(variable_name=\"agent_scratchpad\"),\n",
    "        ]\n",
    "    )\n",
    "    agent = create_openai_tools_agent(llm, tools, prompt)\n",
    "    executor = AgentExecutor(agent=agent, tools=tools)\n",
    "    return executor\n",
    "\n",
    "# import Tools\n",
    "from Prompt import *\n",
    "from langchain.tools.retriever import create_retriever_tool\n",
    "book_search_tool = create_retriever_tool(\n",
    "        BookInfo.retriever,\n",
    "        \"book_researcher\",\n",
    "        \"tìm kiếm và trả lời các thông tin về sách trong database của thư viện cho người dùng\",\n",
    "    )\n",
    "\n",
    "book_research_agent = create_agent(llm, [book_search_tool], \"Bạn rất hữu dụng trong việc trả lời các câu hỏi về sách cho người dùng. Lưu ý: câu trả lời phải bằng tiếng việt và không quá dài dòng.\")"
   ]
  },
  {
   "cell_type": "code",
   "execution_count": 6,
   "metadata": {},
   "outputs": [
    {
     "name": "stdout",
     "output_type": "stream",
     "text": [
      "/////////////////////////////////////\n",
      "Query:  thực phẩm\n",
      "similarity_search    {}\n",
      "4\n",
      ". Trình bày khái niệm về khoa học cảm quan thực phẩm. 2. Làm rõ 4 giai đoạn của thí nghiệm đánh giá cảm quan. 3\n",
      ". Mối liên kết giữa các tính chất cảm quan với đặc điểm vật lý, hóa học hay với các yếu tố của công thức hoặc quá trình chế biến giúp tạo ra được những sản phẩm mang những đặc điểm tốt nhất hoặc phù hợp nhất với thị hiếu người tiêu dùng.--1.2 Vai trò của đánh giá cảm quan trong công nghiệp thực phẩm Kết quả thống kê ước tính rằng 75% sản phẩm mới bị thất bại trong năm đầu tiên được bán trên thị trường, nguyên nhân có thể là do sự không phù hợp giữa các đặc tính cảm quan với nhu cầu hoặc sự mong đợi của--3--người tiêu dùng\n",
      ". Một số bài tập tình huống cũng được trình bày để sinh viên/người học có thể tìm hiểu, thảo luận thêm và thực hành lên các thiết kế thí nghiệm cảm quan phù hợp.--Tác giả hy vọng rằng cuốn sách này sẽ hữu ích cho nhiều độc giả khác nhau, bao gồm sinh viên, học viên cao học ngành Công nghệ thực phẩm, các kỹ sư, các doanh nghiệp và những đối tượng khác có quan tâm, giúp giải quyết các vấn đề một cách hiệu quả hơn liên quan tới quá trình sản xuất thực phẩm, sở thích và yêu cầu của người tiêu dùng.--Tác giả xin gửi lời cảm ơn chân thành tới PGS.TS\n",
      ". PHẠM THỊ HOÀN--CÁC PHƯƠNG PHÁP CƠ BẢN TRONG ĐÁNH GIÁ CẢM QUAN THỰC PHẨM--NHÀ XUẤT BẢN ĐẠI HỌC QUỐC GIA THÀNH PHỐ HỒ CHÍ MINH - 2023--LỜI NÓI ĐẦU--Giáo trình này được biên soạn xuất phát từ nhu cầu cung cấp các kiến thức cơ bản và các hướng dẫn thực hiện một thí nghiệm đánh giá cảm quan đối với các sản phẩm thực phẩm được sử dụng trong quy mô phòng thí nghiệm, nơi mà các nhân viên được đào tạo tối thiểu hoặc không được đào tạo về kỹ thuật phân tích cảm quan\n",
      "result:  [Document(page_content=\"{'Tên sách': 'Các phương pháp cơ bản trong đánh giá cảm quan thực phẩm', 'Loại sách': 'Giáo trình', 'ID': '3', 'Tác giả': 'Phạm Thị Hoàn', 'Nhà xuất bản': 'Nhà Xuất Bản Đại Học Quốc Gia', 'Năm xuất bản': '2023', 'Vị trí': 'Kệ số 4', 'Nội dung đầu sách': '. Trình bày khái niệm về khoa học cảm quan thực phẩm. 2. Làm rõ 4 giai đoạn của thí nghiệm đánh giá cảm quan. 3\\\\n\\\\n. Mối liên kết giữa các tính chất cảm quan với đặc điểm vật lý, hóa học hay với các yếu tố của công thức hoặc quá trình chế biến giúp tạo ra được những sản phẩm mang những đặc điểm tốt nhất hoặc phù hợp nhất với thị hiếu người tiêu dùng.--1.2 Vai trò của đánh giá cảm quan trong công nghiệp thực phẩm Kết quả thống kê ước tính rằng 75% sản phẩm mới bị thất bại trong năm đầu tiên được bán trên thị trường, nguyên nhân có thể là do sự không phù hợp giữa các đặc tính cảm quan với nhu cầu hoặc sự mong đợi của--3--người tiêu dùng\\\\n\\\\n. Một số bài tập tình huống cũng được trình bày để sinh viên/người học có thể tìm hiểu, thảo luận thêm và thực hành lên các thiết kế thí nghiệm cảm quan phù hợp.--Tác giả hy vọng rằng cuốn sách này sẽ hữu ích cho nhiều độc giả khác nhau, bao gồm sinh viên, học viên cao học ngành Công nghệ thực phẩm, các kỹ sư, các doanh nghiệp và những đối tượng khác có quan tâm, giúp giải quyết các vấn đề một cách hiệu quả hơn liên quan tới quá trình sản xuất thực phẩm, sở thích và yêu cầu của người tiêu dùng.--Tác giả xin gửi lời cảm ơn chân thành tới PGS.TS\\\\n\\\\n. PHẠM THỊ HOÀN--CÁC PHƯƠNG PHÁP CƠ BẢN TRONG ĐÁNH GIÁ CẢM QUAN THỰC PHẨM--NHÀ XUẤT BẢN ĐẠI HỌC QUỐC GIA THÀNH PHỐ HỒ CHÍ MINH - 2023--LỜI NÓI ĐẦU--Giáo trình này được biên soạn xuất phát từ nhu cầu cung cấp các kiến thức cơ bản và các hướng dẫn thực hiện một thí nghiệm đánh giá cảm quan đối với các sản phẩm thực phẩm được sử dụng trong quy mô phòng thí nghiệm, nơi mà các nhân viên được đào tạo tối thiểu hoặc không được đào tạo về kỹ thuật phân tích cảm quan'}\")]\n"
     ]
    },
    {
     "data": {
      "text/plain": [
       "{'messages': [HumanMessage(content='cuốn sách co nội dung về thực phảm có ID là bao nhiêu')],\n",
       " 'output': 'Cuốn sách có nội dung về thực phẩm có ID là 3. Cuốn sách có tên là \"Các phương pháp cơ bản trong đánh giá cảm quan thực phẩm\" của tác giả Phạm Thị Hoàn.'}"
      ]
     },
     "execution_count": 6,
     "metadata": {},
     "output_type": "execute_result"
    }
   ],
   "source": [
    "from langchain_core.messages import BaseMessage, HumanMessage, AIMessage\n",
    "book_research_agent.invoke({\"messages\": [HumanMessage(\"cuốn sách co nội dung về thực phảm có ID là bao nhiêu\")]})"
   ]
  },
  {
   "cell_type": "code",
   "execution_count": 3,
   "metadata": {},
   "outputs": [
    {
     "name": "stdout",
     "output_type": "stream",
     "text": [
      "/////////////////////////////////////\n",
      "Query:  vật liệu chế tạo dụng cụ cắt\n",
      "similarity_search    {}\n",
      "4\n",
      ". Kiến thức của môn học này sẽ giúp ích cho kỹ sư và cán bộ kỹ thuật trong việc thiết kế, chế tạo các loại máy móc thiết bị phục vụ cho mọi ngành kinh tế--Nội dung của học phần này cung cấp cho người học những nguyên lý cơ bản của quá trình cắt kim loại, những hiện tượng cơ lý hóa xảy ra trong khi cắt, những đặc trưng và vai trò của hệ thống công nghệ, các phương pháp gia công cắt gọt, các vấn đề liên quan đến sai số gia công và các biện pháp khắc phục chúng để nâng cao độ chính xác gia công, chất lượng bề mặt của sản phẩm và giảm giá thành\n",
      ". Điều này rất hữu ích khi phương pháp thiết bị cần chi phí lớn về máy móc…, ví dụ như các kiểm nghiệm chất lượng sản phẩm (Quality control - QC) hay đảm bảo chất lượng (Quality assurance - QA)\n",
      ". Rất mong nhận được sự đóng góp ý kiến của thầy cô và các độc giả.--CÁC TÁC GIẢ--3--4--MỤC LỤC--Chƣơng 1: NHỮNG KHÁI NIỆM CƠ BẢN - 15--1.1 Khái niệm về quá trình hình thành sản phẩm cơ khí - 16--1.1.1 Khái niệm về sản phẩm cơ khí - 16--1.1.2 Mô hình hình hình thành sản phẩm cơ khí1 - 16--1.2 Quá trình sản xuất và quá trình công nghệ - 18--1.2.1 Quá trình sản xuất - 18--1.2.2 Quá trình công nghệ - 19--1.2.3 Các thành phần của quy trình công nghệ - 19--1.3 Hình thức tổ chức sản xuất và dạng sản xuất - 21--1.3.1 Các hình thức tổ chức sản xuất - 21--1.3.2 Dạng sản xuất - 21--Tóm tắt nội dung và câu hỏi ôn tập - 24--Chƣơng 2: CƠ SỞ LÝ THUYẾT CĂT GỌT KIM LOẠI - 25--2.1 Khái niệm chung - 26--2.1.1 Định nghĩa cắt gọt kim loại - 26--2.1.2 Hệ thống công nghệ - 26--2.1.3 Các dạng bề mặt thường gặp trong chi tiết máy - 27--2.1.4 Các chuyển động tạo hình bề mặt - 27--2.1.5 Các phương pháp cắt gọt kim loại - 33--2.2 Khái niệm cơ bản về dụng cụ cắt - 34--2.2.1 Kết cấu tổng quát của dao tiện ngoài - 34--2.2.2 Thông số hình học của dao khi thiết kế - 36--2.2.3 Thông số hình học của dao khi làm việc - 43--2.2.4 Thông số hình học tiết diện phoi cắt - 48--2.3 Vật liệu chế tạo dụng cụ cắt - 53--5--Giáo trình--CƠ SỞ CÔNG NGHỆ CHẾ TẠO MÁY ThS\n",
      ". Các mẫu phải được sắp xếp theo một trình tự cân bằng và được xem xét kỹ lượng về nhiệt độ, hình dạng, kích thước…--Giai đoạn 2: Đo đạc (measure)\n",
      "result:  [Document(page_content=\"{'Tên sách': 'Cơ sở lập trình chế tạo máy', 'Loại sách': 'Giáo trình', 'ID': '20134028', 'Tác giả': 'Phan Minh Thanh, Hồ Viết Bình', 'Nhà xuất bản': 'Nhà Xuất Bản Đại Học Quốc Gia', 'Năm xuất bản': '2013', 'Vị trí': 'Kệ số 3', 'Nội dung đầu sách': '. Kiến thức của môn học này sẽ giúp ích cho kỹ sư và cán bộ kỹ thuật trong việc thiết kế, chế tạo các loại máy móc thiết bị phục vụ cho mọi ngành kinh tế--Nội dung của học phần này cung cấp cho người học những nguyên lý cơ bản của quá trình cắt kim loại, những hiện tượng cơ lý hóa xảy ra trong khi cắt, những đặc trưng và vai trò của hệ thống công nghệ, các phương pháp gia công cắt gọt, các vấn đề liên quan đến sai số gia công và các biện pháp khắc phục chúng để nâng cao độ chính xác gia công, chất lượng bề mặt của sản phẩm và giảm giá thành\\\\n\\\\n. Rất mong nhận được sự đóng góp ý kiến của thầy cô và các độc giả.--CÁC TÁC GIẢ--3--4--MỤC LỤC--Chƣơng 1: NHỮNG KHÁI NIỆM CƠ BẢN - 15--1.1 Khái niệm về quá trình hình thành sản phẩm cơ khí - 16--1.1.1 Khái niệm về sản phẩm cơ khí - 16--1.1.2 Mô hình hình hình thành sản phẩm cơ khí1 - 16--1.2 Quá trình sản xuất và quá trình công nghệ - 18--1.2.1 Quá trình sản xuất - 18--1.2.2 Quá trình công nghệ - 19--1.2.3 Các thành phần của quy trình công nghệ - 19--1.3 Hình thức tổ chức sản xuất và dạng sản xuất - 21--1.3.1 Các hình thức tổ chức sản xuất - 21--1.3.2 Dạng sản xuất - 21--Tóm tắt nội dung và câu hỏi ôn tập - 24--Chƣơng 2: CƠ SỞ LÝ THUYẾT CĂT GỌT KIM LOẠI - 25--2.1 Khái niệm chung - 26--2.1.1 Định nghĩa cắt gọt kim loại - 26--2.1.2 Hệ thống công nghệ - 26--2.1.3 Các dạng bề mặt thường gặp trong chi tiết máy - 27--2.1.4 Các chuyển động tạo hình bề mặt - 27--2.1.5 Các phương pháp cắt gọt kim loại - 33--2.2 Khái niệm cơ bản về dụng cụ cắt - 34--2.2.1 Kết cấu tổng quát của dao tiện ngoài - 34--2.2.2 Thông số hình học của dao khi thiết kế - 36--2.2.3 Thông số hình học của dao khi làm việc - 43--2.2.4 Thông số hình học tiết diện phoi cắt - 48--2.3 Vật liệu chế tạo dụng cụ cắt - 53--5--Giáo trình--CƠ SỞ CÔNG NGHỆ CHẾ TẠO MÁY ThS'}\"), Document(page_content=\"{'Tên sách': 'Các phương pháp cơ bản trong đánh giá cảm quan thực phẩm', 'Loại sách': 'Giáo trình', 'ID': '20134013', 'Tác giả': 'Phạm Thị Hoàn', 'Nhà xuất bản': 'Nhà Xuất Bản Đại Học Quốc Gia', 'Năm xuất bản': '2023', 'Vị trí': 'Kệ số 4', 'Nội dung đầu sách': '. Điều này rất hữu ích khi phương pháp thiết bị cần chi phí lớn về máy móc…, ví dụ như các kiểm nghiệm chất lượng sản phẩm (Quality control - QC) hay đảm bảo chất lượng (Quality assurance - QA)\\\\n\\\\n. Các mẫu phải được sắp xếp theo một trình tự cân bằng và được xem xét kỹ lượng về nhiệt độ, hình dạng, kích thước…--Giai đoạn 2: Đo đạc (measure)'}\")]\n"
     ]
    },
    {
     "data": {
      "text/plain": [
       "\"{'Tên sách': 'Cơ sở lập trình chế tạo máy', 'Loại sách': 'Giáo trình', 'ID': '20134028', 'Tác giả': 'Phan Minh Thanh, Hồ Viết Bình', 'Nhà xuất bản': 'Nhà Xuất Bản Đại Học Quốc Gia', 'Năm xuất bản': '2013', 'Vị trí': 'Kệ số 3', 'Nội dung đầu sách': '. Kiến thức của môn học này sẽ giúp ích cho kỹ sư và cán bộ kỹ thuật trong việc thiết kế, chế tạo các loại máy móc thiết bị phục vụ cho mọi ngành kinh tế--Nội dung của học phần này cung cấp cho người học những nguyên lý cơ bản của quá trình cắt kim loại, những hiện tượng cơ lý hóa xảy ra trong khi cắt, những đặc trưng và vai trò của hệ thống công nghệ, các phương pháp gia công cắt gọt, các vấn đề liên quan đến sai số gia công và các biện pháp khắc phục chúng để nâng cao độ chính xác gia công, chất lượng bề mặt của sản phẩm và giảm giá thành\\\\n\\\\n. Rất mong nhận được sự đóng góp ý kiến của thầy cô và các độc giả.--CÁC TÁC GIẢ--3--4--MỤC LỤC--Chƣơng 1: NHỮNG KHÁI NIỆM CƠ BẢN - 15--1.1 Khái niệm về quá trình hình thành sản phẩm cơ khí - 16--1.1.1 Khái niệm về sản phẩm cơ khí - 16--1.1.2 Mô hình hình hình thành sản phẩm cơ khí1 - 16--1.2 Quá trình sản xuất và quá trình công nghệ - 18--1.2.1 Quá trình sản xuất - 18--1.2.2 Quá trình công nghệ - 19--1.2.3 Các thành phần của quy trình công nghệ - 19--1.3 Hình thức tổ chức sản xuất và dạng sản xuất - 21--1.3.1 Các hình thức tổ chức sản xuất - 21--1.3.2 Dạng sản xuất - 21--Tóm tắt nội dung và câu hỏi ôn tập - 24--Chƣơng 2: CƠ SỞ LÝ THUYẾT CĂT GỌT KIM LOẠI - 25--2.1 Khái niệm chung - 26--2.1.1 Định nghĩa cắt gọt kim loại - 26--2.1.2 Hệ thống công nghệ - 26--2.1.3 Các dạng bề mặt thường gặp trong chi tiết máy - 27--2.1.4 Các chuyển động tạo hình bề mặt - 27--2.1.5 Các phương pháp cắt gọt kim loại - 33--2.2 Khái niệm cơ bản về dụng cụ cắt - 34--2.2.1 Kết cấu tổng quát của dao tiện ngoài - 34--2.2.2 Thông số hình học của dao khi thiết kế - 36--2.2.3 Thông số hình học của dao khi làm việc - 43--2.2.4 Thông số hình học tiết diện phoi cắt - 48--2.3 Vật liệu chế tạo dụng cụ cắt - 53--5--Giáo trình--CƠ SỞ CÔNG NGHỆ CHẾ TẠO MÁY ThS'}\\n\\n{'Tên sách': 'Các phương pháp cơ bản trong đánh giá cảm quan thực phẩm', 'Loại sách': 'Giáo trình', 'ID': '20134013', 'Tác giả': 'Phạm Thị Hoàn', 'Nhà xuất bản': 'Nhà Xuất Bản Đại Học Quốc Gia', 'Năm xuất bản': '2023', 'Vị trí': 'Kệ số 4', 'Nội dung đầu sách': '. Điều này rất hữu ích khi phương pháp thiết bị cần chi phí lớn về máy móc…, ví dụ như các kiểm nghiệm chất lượng sản phẩm (Quality control - QC) hay đảm bảo chất lượng (Quality assurance - QA)\\\\n\\\\n. Các mẫu phải được sắp xếp theo một trình tự cân bằng và được xem xét kỹ lượng về nhiệt độ, hình dạng, kích thước…--Giai đoạn 2: Đo đạc (measure)'}\""
      ]
     },
     "execution_count": 3,
     "metadata": {},
     "output_type": "execute_result"
    }
   ],
   "source": [
    "book_search_tool.invoke(\"vật liệu chế tạo dụng cụ cắt\")"
   ]
  },
  {
   "cell_type": "markdown",
   "metadata": {},
   "source": [
    "#BM25"
   ]
  },
  {
   "cell_type": "code",
   "execution_count": 35,
   "metadata": {},
   "outputs": [
    {
     "name": "stderr",
     "output_type": "stream",
     "text": [
      "/home/xuanai/Python-env/LLM2/lib/python3.10/site-packages/langchain_core/_api/deprecation.py:117: LangChainDeprecationWarning: The class `langchain_community.embeddings.openai.OpenAIEmbeddings` was deprecated in langchain-community 0.0.9 and will be removed in 0.2.0. An updated version of the class exists in the langchain-openai package and should be used instead. To use it run `pip install -U langchain-openai` and import as `from langchain_openai import OpenAIEmbeddings`.\n",
      "  warn_deprecated(\n"
     ]
    }
   ],
   "source": [
    "from langchain.retrievers import BM25Retriever, EnsembleRetriever\n",
    "from langchain.schema import Document\n",
    "\n",
    "from langchain.vectorstores import Chroma\n",
    "from langchain.vectorstores import FAISS\n",
    "\n",
    "from langchain.embeddings.openai import OpenAIEmbeddings\n",
    "embedding = OpenAIEmbeddings()"
   ]
  },
  {
   "cell_type": "code",
   "execution_count": 39,
   "metadata": {},
   "outputs": [],
   "source": [
    "# initialize the bm25 retriever and faiss retriever\n",
    "doc_list = [txt.page_content for txt in texts]\n",
    "bm25_retriever = BM25Retriever.from_texts(doc_list)\n",
    "bm25_retriever.k = 2"
   ]
  },
  {
   "cell_type": "code",
   "execution_count": null,
   "metadata": {},
   "outputs": [],
   "source": [
    "BM25Retriever.from_"
   ]
  },
  {
   "cell_type": "code",
   "execution_count": 59,
   "metadata": {},
   "outputs": [],
   "source": [
    "ensemble_retriever = EnsembleRetriever(retrievers=[bm25_retriever, retriever],\n",
    "                                       weights=[0.5, 0.5])"
   ]
  },
  {
   "cell_type": "code",
   "execution_count": 52,
   "metadata": {},
   "outputs": [
    {
     "data": {
      "text/plain": [
       "[Document(page_content='\\\\n\\\\nChương 2 - Các cơ quan cảm giác và các yếu tố ảnh hưởng đến phép đo cảm quan - giúp người đọc hiểu rõ hơn về các bộ phận thu nhận tín hiệu của con người cùng các tác nhân kích thích'),\n",
       " Document(page_content='\\\\n\\\\nđộ vị -55\\\\n\\\\nBảng 4.1: Các nhóm phép thử trong đánh giá cảm quan thực')]"
      ]
     },
     "execution_count": 52,
     "metadata": {},
     "output_type": "execute_result"
    }
   ],
   "source": [
    "bm25_retriever.get_relevant_documents(\"phép đo cảm quan\")"
   ]
  },
  {
   "cell_type": "code",
   "execution_count": 61,
   "metadata": {},
   "outputs": [
    {
     "data": {
      "text/plain": [
       "[Document(page_content='\\\\n\\\\nHình 3-1 Lưu đồ hoạt động của vòng lặp while. - 35\\\\n\\\\nHình 3-2 Lưu đồ hoạt động của vòng lặp for. - 47\\\\n\\\\n8'),\n",
       " Document(page_content='. Sóng ánh sáng phản xạ lên một vật đi vào mắt và rơi trên võng mạc (Hình 2.1)', metadata={'doc_id': '2375604e-bb8d-4310-8610-768cebc3c73a', 'source': '/home/xuanai/html/Bot/rerievel-text/books/pdf_folder/cac_phuong_phap_co_ban_trong_danh_gia_cam_quan_thuc_pham.pdf'}),\n",
       " Document(page_content='thử 2-3 ........................................................................', metadata={'doc_id': '2375604e-bb8d-4310-8610-768cebc3c73a', 'source': '/home/xuanai/html/Bot/rerievel-text/books/pdf_folder/cac_phuong_phap_co_ban_trong_danh_gia_cam_quan_thuc_pham.pdf'}),\n",
       " Document(page_content='\\\\n\\\\n3.3 Vòng lặp for - 46\\\\n\\\\n3.4 Break, continue và pass- 49\\\\n\\\\nBài tập có lời giải - 50\\\\n\\\\nBài tập thực hành - 51'),\n",
       " Document(page_content='Giai đoạn 1: Gợi lên (evoke). Đây thực chất là giai đoạn chuẩn bị thí nghiệm', metadata={'doc_id': '2375604e-bb8d-4310-8610-768cebc3c73a', 'source': '/home/xuanai/html/Bot/rerievel-text/books/pdf_folder/cac_phuong_phap_co_ban_trong_danh_gia_cam_quan_thuc_pham.pdf'}),\n",
       " Document(page_content='. - Xác định được các giai đoạn của một phép thử cảm quan', metadata={'doc_id': '2375604e-bb8d-4310-8610-768cebc3c73a', 'source': '/home/xuanai/html/Bot/rerievel-text/books/pdf_folder/cac_phuong_phap_co_ban_trong_danh_gia_cam_quan_thuc_pham.pdf'})]"
      ]
     },
     "execution_count": 61,
     "metadata": {},
     "output_type": "execute_result"
    }
   ],
   "source": [
    "ensemble_retriever.get_relevant_documents(\"vòng lặp\")"
   ]
  },
  {
   "cell_type": "code",
   "execution_count": 19,
   "metadata": {},
   "outputs": [
    {
     "data": {
      "text/plain": [
       "[Document(page_content='. Thông qua các giác quan, người thử cảm nhận và định lượng cường độ kích thích nhận được từ mẫu thử và phản hồi bằng cách cho điểm, mô tả hay so sánh', metadata={'doc_id': '8c33d89f-5844-471c-b203-4bb781496226', 'source': '/home/xuanai/html/Bot/rerievel-text/books/pdf_folder/cac_phuong_phap_co_ban_trong_danh_gia_cam_quan_thuc_pham.pdf'}),\n",
       " Document(page_content='Xác định được các mối tương tác giữa các giác quan, giữa các chất\\n\\nkích thích.', metadata={'doc_id': '8c33d89f-5844-471c-b203-4bb781496226', 'source': '/home/xuanai/html/Bot/rerievel-text/books/pdf_folder/cac_phuong_phap_co_ban_trong_danh_gia_cam_quan_thuc_pham.pdf'}),\n",
       " Document(page_content='\\nđược sử dụng để gợi lên (evoke), đo đạc (measure), phân tích (analyse) và giải thích (interpret) những cảm nhận/phản hồi của con người đối với sản phẩm thông qua các giác quan: thị giác, khứu giác, xúc giác, vị giác và thính giác”1,2', metadata={'doc_id': '8c33d89f-5844-471c-b203-4bb781496226', 'source': '/home/xuanai/html/Bot/rerievel-text/books/pdf_folder/cac_phuong_phap_co_ban_trong_danh_gia_cam_quan_thuc_pham.pdf'}),\n",
       " Document(page_content='\\nThông qua bốn giai đoạn của một thí nghiệm đánh giá cảm quan, ta thấy, một chuyên gia cảm quan thường xuyên đối mặt với các vấn đề liên quan tới một bộ kỹ năng phong phú được đúc kết từ một loạt các lĩnh vực, gồm khoa học sinh học (hiểu về các cơ quan cảm giác của con người), tâm lý học (hiểu về các hành vi và các yếu tố ảnh hưởng tới tâm lý của con người), thiết kế thí nghiệm và thống kê', metadata={'doc_id': '8c33d89f-5844-471c-b203-4bb781496226', 'source': '/home/xuanai/html/Bot/rerievel-text/books/pdf_folder/cac_phuong_phap_co_ban_trong_danh_gia_cam_quan_thuc_pham.pdf'})]"
      ]
     },
     "execution_count": 19,
     "metadata": {},
     "output_type": "execute_result"
    }
   ],
   "source": [
    "BookInfo.retriever.vectorstore.similarity_search(\"thông qua các giác quan\")"
   ]
  },
  {
   "cell_type": "code",
   "execution_count": 10,
   "metadata": {},
   "outputs": [
    {
     "data": {
      "text/plain": [
       "['1']"
      ]
     },
     "execution_count": 10,
     "metadata": {},
     "output_type": "execute_result"
    }
   ],
   "source": [
    "msg = {'id': '1'}\n",
    "image_of_book = str(msg['id']).replace(\"'\", \"\").replace('\"', '').split(',')\n",
    "image_of_book"
   ]
  },
  {
   "cell_type": "code",
   "execution_count": 11,
   "metadata": {},
   "outputs": [
    {
     "name": "stdout",
     "output_type": "stream",
     "text": [
      "1\n",
      "('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',)\n"
     ]
    }
   ],
   "source": [
    "import sys\n",
    "sys.path.append(\"../\")\n",
    "import book_search\n",
    "for book_id in image_of_book:\n",
    "    print(book_id)\n",
    "    print(book_search.search_book_image_by_id(book_id))"
   ]
  }
 ],
 "metadata": {
  "kernelspec": {
   "display_name": "LLM2",
   "language": "python",
   "name": "python3"
  },
  "language_info": {
   "codemirror_mode": {
    "name": "ipython",
    "version": 3
   },
   "file_extension": ".py",
   "mimetype": "text/x-python",
   "name": "python",
   "nbconvert_exporter": "python",
   "pygments_lexer": "ipython3",
   "version": "3.10.13"
  }
 },
 "nbformat": 4,
 "nbformat_minor": 2
}
