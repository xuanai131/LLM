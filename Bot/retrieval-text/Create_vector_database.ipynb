{
 "cells": [
  {
   "cell_type": "code",
   "execution_count": null,
   "metadata": {},
   "outputs": [],
   "source": [
    "from langchain_community.vectorstores import Chroma\n",
    "from langchain_openai import OpenAIEmbeddings\n",
    "\n",
    "import sys\n",
    "sys.path.append(\"../\")\n",
    "import API_keys\n",
    "\n",
    "embedding=OpenAIEmbeddings(chunk_size=1)\n",
    "from methods import *\n",
    "from Global_variable import *\n",
    "embedding=OpenAIEmbeddings(chunk_size=1)\n",
    "BookInfoRetriever = RETRIEVER_CONFIG()\n",
    "BookInfo =  DATABASE(db_path=AbsoluteBotPath+'/vector_database/book_infos_3',\n",
    "                     embedding=embedding, \n",
    "                     parent_path=AbsoluteBotPath+\"/vector_database/book_parents_3\",\n",
    "                     retriever_config=BookInfoRetriever)"
   ]
  },
  {
   "cell_type": "code",
   "execution_count": null,
   "metadata": {},
   "outputs": [],
   "source": [
    "BookInfo.insert_book(json_file=AbsoluteBotPath+\"/Knowledge/Books/Json/sample.json\", jq_schema='book_infos', ids=None)"
   ]
  }
 ],
 "metadata": {
  "language_info": {
   "name": "python"
  }
 },
 "nbformat": 4,
 "nbformat_minor": 2
}
