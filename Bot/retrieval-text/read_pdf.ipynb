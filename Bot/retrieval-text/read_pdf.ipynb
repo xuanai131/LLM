{
 "cells": [
  {
   "cell_type": "code",
   "execution_count": null,
   "metadata": {},
   "outputs": [],
   "source": [
    "from langchain_community.document_loaders.pdf import UnstructuredPDFLoader\n",
    "from langchain.text_splitter import RecursiveCharacterTextSplitter\n",
    "from langchain_community.vectorstores import Chroma\n",
    "from langchain_community.embeddings.sentence_transformer import SentenceTransformerEmbeddings\n",
    "from langchain.docstore.document import Document\n",
    "from langchain_community.document_loaders.csv_loader import CSVLoader\n",
    "from langchain_community.document_loaders import TextLoader\n",
    "from langchain_community.document_loaders import Docx2txtLoader\n",
    "from langchain_text_splitters import CharacterTextSplitter\n",
    "from langchain.storage import InMemoryStore, LocalFileStore\n",
    "from langchain.storage._lc_store import create_kv_docstore\n",
    "# from langchain.retrievers import ParentDocumentRetriever\n",
    "import json\n",
    "from pathlib import Path\n",
    "from numpy.linalg import norm\n",
    "from numpy import dot\n",
    "import uuid\n",
    "\n",
    "class DATABASE:\n",
    "    def __init__(self, db_path, embedding, parent_path=None):\n",
    "        self.db_path = db_path\n",
    "        self.parent_path = parent_path\n",
    "        self.db = Chroma(collection_name=\"split_parents\", persist_directory=db_path, embedding_function=embedding)\n",
    "        self.parent_splitter = RecursiveCharacterTextSplitter(chunk_size=1024, chunk_overlap= 20, separators=[\" {'\"])\n",
    "        self.child_splitter = RecursiveCharacterTextSplitter(\n",
    "            separators=[\"\\n\",\"\\n\\n\" \"\\\\n\", \"FF0E FE00.\", \"\\\\n\\\\n\", '\",', '........', '. '],\n",
    "            chunk_size=120,\n",
    "            chunk_overlap=20,\n",
    "            length_function=len,\n",
    "            is_separator_regex=False,\n",
    "        )\n",
    "        self.store = self.initial_store()\n",
    "        self.retriever = self.initial_retriever()\n",
    "        \n",
    "    def initial_store(self, ):\n",
    "        fs = LocalFileStore(self.parent_path)\n",
    "        store = create_kv_docstore(fs)\n",
    "        return store\n",
    "    \n",
    "    def initial_retriever(self, ):\n",
    "        retriever = CustomParentDocumentRetriever(\n",
    "            vectorstore=self.db,\n",
    "            docstore=self.store,\n",
    "            child_splitter=self.child_splitter,\n",
    "            parent_splitter=self.parent_splitter\n",
    "        )\n",
    "        return retriever\n",
    "    \n",
    "    def insert_document(self, file_path, chunk_size=1000, chunk_overlap=0, jq_schema=None):\n",
    "        file_format = file_path.split('.')[-1]\n",
    "        if file_format == 'pdf':\n",
    "            pdf_loader = UnstructuredPDFLoader(file_path)\n",
    "            pdf_pages = pdf_loader.load_and_split()\n",
    "            text_splitter = RecursiveCharacterTextSplitter(chunk_size=1024, chunk_overlap=64)\n",
    "            texts = text_splitter.split_documents(pdf_pages)\n",
    "        elif file_format == 'json':\n",
    "            documents = json.loads(Path(file_path).read_text())\n",
    "            txts = [str(i) for i in list(documents[jq_schema])]\n",
    "            texts = [Document(page_content=txt, metadata={\"source\": file_path}) for txt in txts]\n",
    "        elif file_format == 'csv':\n",
    "            loader = CSVLoader(file_path=file_path)\n",
    "            texts = loader.load()\n",
    "        elif file_format == 'txt':\n",
    "            loader = TextLoader(file_path)\n",
    "            documents = loader.load()\n",
    "            text_splitter = CharacterTextSplitter(chunk_size=chunk_size, chunk_overlap=chunk_overlap)\n",
    "            texts = text_splitter.split_documents(documents)\n",
    "        elif file_format == 'docx':\n",
    "            loader = Docx2txtLoader(file_path)\n",
    "            documents = loader.load()\n",
    "            text_splitter = CharacterTextSplitter(chunk_size=chunk_size, chunk_overlap=chunk_overlap)\n",
    "            texts = text_splitter.split_documents(documents)\n",
    "        else:\n",
    "            print(f'This function does not support {file_format} file format.')\n",
    "            return\n",
    "        # self.db.add_documents(texts)\n",
    "        self.retriever.add_documents(texts, ids=None)\n",
    "    def insert_processed_texts(self, documents, chunk_size=1000, chunk_overlap=0):\n",
    "        text_splitter = CharacterTextSplitter(chunk_size=chunk_size, chunk_overlap=chunk_overlap)\n",
    "        texts = text_splitter.split_documents(documents)\n",
    "        self.retriever.add_documents(texts, ids=None)\n",
    "    # def insert_book(name, ID, kind_of_book, authors, publisher, year_of_publication, location, pdf_path):\n",
    "    #     json = '''\n",
    "    #             \"Tên sách\": {name},\n",
    "    #             \"Loại sách\": \"Giáo trình\",\n",
    "    #             \"ID\": \"20134011\",\n",
    "    #             \"Tác giả\": \"Trần Nhật Quang, Phạm Văn Khoa\",\n",
    "    #             \"Nhà xuất bản\": \"Đại học Quốc gia Tp. Hồ Chí Minh\",\n",
    "    #             \"Năm xuất bản\": \"2023\",\n",
    "    #             \"Vị trí\": \"kệ số 2\",\n",
    "    #             \"Nội dung đầu sách\":\"a\",\n",
    "    #         '''\n",
    "    #     print(json.format(name))\n",
    "    def insert_book(self, json_file: str, jq_schema, ids=None):\n",
    "        documents = json.loads(Path(json_file).read_text())[jq_schema]\n",
    "        if ids is None:\n",
    "            doc_ids = [str(uuid.uuid4()) for _ in documents]\n",
    "        else:\n",
    "            if len(documents) != len(ids):\n",
    "                raise ValueError(\n",
    "                    \"Got uneven list of documents and ids. \"\n",
    "                    \"If `ids` is provided, should be same length as `documents`.\"\n",
    "                )\n",
    "            doc_ids = ids\n",
    "        for idx in range(len(documents)):\n",
    "            # Add to parents\n",
    "            self.retriever.docstore.mset([(doc_ids[idx], Document(str(documents[idx])))])\n",
    "            child_doc_file = documents[idx]['Nội dung đầu sách']\n",
    "            pdf_loader = UnstructuredPDFLoader(child_doc_file)\n",
    "            child_doc = pdf_loader.load()\n",
    "            \n",
    "            docs = []\n",
    "            # for i, doc in enumerate(child_doc):\n",
    "            _id = doc_ids[idx]\n",
    "            sub_docs = self.child_splitter.split_documents(child_doc)\n",
    "            for _ in sub_docs:\n",
    "                print(_)\n",
    "            if self.retriever.child_metadata_fields is not None:\n",
    "                for _doc in sub_docs:\n",
    "                    _doc.metadata = {\n",
    "                        k: _doc.metadata[k] for k in self.retriever.child_metadata_fields\n",
    "                    }\n",
    "            for _doc in sub_docs:\n",
    "                _doc.metadata[self.retriever.id_key] = _id\n",
    "            docs.extend(sub_docs)\n",
    "        self.retriever.vectorstore.add_documents(docs)\n",
    "\n",
    "    def similarity_search(self, query, k=4):\n",
    "        return self.db.similarity_search_with_score(query, k)"
   ]
  },
  {
   "cell_type": "code",
   "execution_count": null,
   "metadata": {},
   "outputs": [],
   "source": [
    "import fitz\n",
    "\n",
    "pdf_document = \"books/pdf_folder/gt_lap_trinh_python_can_ban.pdf\"\n",
    "doc = fitz.open(pdf_document)\n",
    "\n",
    "for page_num in range(doc.page_count):\n",
    "    page = doc[page_num]\n",
    "    text = page.get_text(\"text\")\n",
    "    print(text)\n",
    "\n",
    "doc.close()"
   ]
  },
  {
   "cell_type": "code",
   "execution_count": 1,
   "metadata": {},
   "outputs": [],
   "source": [
    "from langchain_community.document_loaders import PyMuPDFLoader\n",
    "loader = PyMuPDFLoader(\"/home/xuanai/html/Bot/Knowledge/Books/PDF/Nghệ thuật - Ẩm thực/skv117999_4988.pdf\",extract_images=True)\n",
    "child_doc = loader.load()"
   ]
  },
  {
   "cell_type": "code",
   "execution_count": 2,
   "metadata": {},
   "outputs": [
    {
     "data": {
      "text/plain": [
       "'TU SACH\\nDAI HOC\\nSUPHAM\\nNGUYEN THU TUAN\\nPHUONG PHAP\\nNGHIEN CUU KHOA HOC\\nGIAO DUC MI THUAT\\nSKY1\\nSP\\nNHA XUAT BAN DAI HOC SU PHAMNs18.T883\\nNGUYEN THU TUAN\\nPHUONG PHAP\\nNGHIEN CUU KHOA HOC\\nGIAO DUC Mi THUAT\\n0117998\\nNHA XUAT BAN DAI HOC SU PHAMMUC LUC\\nLOI NOI DAU..\\nMUC TIEU MON HOC..\\nChuong 1. NHUNG VAN DE CHUNG VE NGHIEN CUU KHOA HQC\\nA. MUC TIEU HQC TAP\\nB. NOI DUNG.\\n1.1. Mot so khai niem lien quan.\\n12\\n1.2. Muc tieu cua nghien cuu khoa hoc\\n1.3. Dac diem cua nghien cuu khoa hoc\\n13\\n1.4. Chuc nang cua nghien cuu khoa hoc\\n16\\n1.5. Cac loai hinh nghien cuu khoa hoc\\n17\\n1.6. Phan loai cac de tai nghien cuu khoa hoc giao duc\\n18\\n1.7. Noi dung nghien cuu cua khoa hoc giao duc Mi thuat\\n20\\nC. TAI LIEU THAM KHAO HO TRQ HOC TAP\\n23\\nD.CAU HOI ON TAP VA THAO LUAN\\n23\\nChuong 2. PHUONG PHAP NGHIEN CUU KHOA HOC GIAO DUC\\n24\\nA. MUC TIEU HOC TAP\\n24\\n24\\nB. NQI DUNG..\\n2.1. Mot s6 khai niem lien quan\\n24\\n2.2. Cac phuong phap nghién cuu khoa hoc giao duc\\n27\\nC. TAI LIEU THAM KHAO HO TRO HOC TAP\\n56\\nD. CAU HOI ON TAP VA THAO LUAN\\n56\\nE. BAI TAP THUC HANH\\n57\\nChuong 3. TIEN TRINH THUC HIEN MOT DE TAI NGHIEN CUU\\n58\\nKHOA HOC GIAO DUC MI THUAT\\nA. MUC TIEU HQC TAP\\n58\\n58\\nB. NOI DUNG.\\n60\\n3.1. Chuan bi nghien cuu\\n64\\n3.2. To chuc nghien cuu.\\n68\\n3.3.Hoan thanh de tai nghien cuu\\n70\\n3.4. Danh gia de tai nghien cuuC. TAI LIEU THAM KHAO HO TRQ HQC TAP\\nD. CAU HOI ON TAP VA THAO LUAN\\n74\\nE.BAI TAP THUC HANH\\nChuong 4. XAY DUNG DE CUONG VA VIET BAO CAO KET QUA\\nNGHIEN CUU DE TAI KHOA HQC GIAO DUC MI THUAT\\n75\\nA.MUC TIEU HQC TAP\\n75\\nB. NOI DUNG.\\n75\\n4.1. Xay dung de cuong de tai nghien cuu khoa hoc giao duc Mi thuat\\n75\\n4.2. Viet bao cao ket qua nghien cuu khoa hoc\\n113\\n4.3. Viet ban tom tat ket qua nghien cuu ...\\n132\\nC. TAI LIEU THAM KHAO HO TRO HQC TAP\\n133\\nD. CAU HOI ON TAP VA THAO LUAN\\n133\\nE. BAI TAP THUC HANH\\n134\\nPHU LUC\\n.135\\nPhu luc 1. Ggi y mot so noi dung co the chon lam de tai nghien cuu\\nkhoa hoc giao duc Mi thuat.\\n...135\\nPhu luc 2. Mot so vi du minh hoa ve ten dé tai nghien cuu khoa hoc giao duc Mi thuat...138\\nPhu luc 3. Huong dan viet loi cam on, loi cam doan,ki hieu viet tat, muc luc\\n.143\\nPhu luc 4. Huong dan viet danh muc cac de tai nghien cuu cua tac gia da cong b6.\\n..146\\nPhu luc 5. Huong dan viet danh muc tai lieu tham khao .\\n.147\\nPhu luc 6. Huong dan viet phan phu luc..\\n151\\nPhu luc 7: Huong dan cach danh so cac chuong, cac muc\\n.152\\nPhu luc 9. Huong dan viet va trinh bay cac trang bia....\\n...154\\nTAI LIEU THAM KHAO\\n169LOI NOI DAU\\nGiao trinh Phuong phap nghien cuu khoa hoc giao duc Mi thuat dugc bien\\nsoan trén co so khung chuong trinh dao tao theo hoc che tin chi cua Bo Giao duc\\nhuong phat.trien nang luc nguoi hoc; dam bao chuan kien thuc, ki nang va\\nchuan dau ra da ban hanh. Noi dung giao trinh duoc tac gia duc ket tu su tich luy\\nkinh nghiem cua nhieu nam nghien cuu va giang day trong linh vuc giao duc\\nnghe thuat, cung voi su ke thua va tham khao cac tai lieu lien quan cua nhieu\\nnha khoa hoc.\\nCau truc cua giao trinh gom 4 chuong:\\nChudng 1: Nhingvan de chungvenghiencuu khoa hoc.\\np oni oy noyy nno uayu dpyd uonyd uony\\nChuong3:Tien trinh thuchien mot de tai nghiencuu khoa hocgiao duc\\nMi thuat.\\nChuong 4: Xay dung de cuong va viet bao cao ket qua nghien cuu de tai\\nnghien cuukhoa hocgiao ducMi thuat.\\ntrong viec linh hoi va cung co kién thuc bai hoc de co the tu tien hanh nghien\\ntrinh. O moi chuong, ben canh phan li thuyet con co cac vi du minh hoa cu thé;\\ncuoi chuong c6 danh muc cac tai lieu ho trg cho nguoi hoc tham khao; cac cau\\nhoi on tap va thao luan; cac bai tap thuchanh.Dac biet,  Phu luchuong dan\\nde dap uing duoc yéu cau chuan muc mot de tai nghien cuu khoa hoc giao duc.\\nNoi dung giao trinh phuc vu cho cac doi tuong la sinh vien/hoc vien Dai hoc,\\nCao dang (he chinh quy, ti xa, vua lam vua hoc), hoc vien Sau dai hoc chuyen\\nluan van Thac si, luan an Tien si. Hi vong giao trinh nay cung la tai lieu bo ich\\ngiup giang vien cac truong co co so khoa hoc de huong dan nguoi hoc thuc hien\\ndung chuan khi viet khoa luan/luan van/luan an.Tac gia xin chan thanh cam on su giup do quy bau cua cac nha khoa hoc va\\ncac dong nghiep trong qua trinh hoan thien cuon giao trinh nay.\\nMac du da rat c6 gang, song giao trinh kh6 tranh khoi nhung thiéu sot\\ntrong lan xuat ban dau tien. Tac gia rat mong nhan dugc nhung y kien dong gop\\nhoan thien hon khi tai ban.\\nMoi y kien dong gop xin vui long lien he voi tac gia giao trinh:\\nNguyen Thu Tuan,Khoa Nghe thuat-Truong Dai hoc Su pham Ha Noi\\n(Dien thoai: 0912.817.224; Email: thutuan.dhsphn@gmail.com).\\nTacgiaMUC TIEU MON HOC\\n1. Kién thuc\\nSau khi hoc xong mon hoc, nguoi hoc:\\n- Hieu ro muc dich, y nghia, tam quan trong va yeu cau cua mon hoc.\\nphuong phap nghien cuu khoa hoc. Xac dinh dugc logic cua mot de tai\\nnghién cuu khoa hoc.\\n-Biet cach trinh bay mot so san pham nghien cuu khoa hoc.\\n-Phan tich duoc cac thuat ngu then chot mang tinh khai luan chung ve\\nphuong phap nghien cuu khoa hoc cua cac nganh khoa hoc nbi chung va\\nkhoa hoc giao duc Mi thuat noi rieng.\\n2. Ki nang\\n- Xay dung dugc mot de cuong nghien cuu khoa hoc.\\n- Su dung thanh thao cac phuong phap nghien cuu khoa hoc.\\nCo ki nang viet va trinh bay tom tat bao cao mot de tai nghien cuu\\nkhoa hoc.\\n3. Thai do\\n-Hung thu va say me nghien cuu khoa hoc.\\n Tich cuc, doc lap va kien tri trong nghien cuu khoa hoc.\\n- Trung thuc, khach quan trong nghien cuu khoa hoc.\\nTu giac ung dung cac san pham nghien cuu khoa hoc trong day hoc,\\ntrong nghe nghiep va trong cuoc song.\\n- Tich cuc hop tac trong nghien cuu khoa hoc.Phu luc 9c5\\nMAU TRANG BiA 3 CUA TOM TAT LUAN AN TIEN Si\\nDANH MUC CAC DE TAI NGHIEN CUU\\nCUA TAC GIA DA CONG BO\\nO trang bia 3 nay, tac gia cua de tai se liet ke cac bai bao, de tai nghien cuu\\nkhoa hoc, sach chuyen khao, giao trinh.. lien quan toi noi dung de tai dang\\nu n go yuplu uaknyp ooy noyy yyp dii opo uan gq Sugo oonp up nno uaiyu\\n3 trong va ngoai nuoc (liet ke theo trinh tu thoi gian cong bo).\\nMoi de tai nghien cuu da cong bo do phai co day du thong tin sau:\\n q u (p ou  p) 9q ug     o  n 9\\nten sach/ten de tai nghien cuu khoa hoc.. Ten tap chi (viet chu nghieng); So, tap\\n(de o trong ngoac don)/Ten sach; So trang cua bai bao dang trén tap chi do\\n(ti trang so may den trang so may).\\n168TAI LIEU THAM KHAO\\n1.\\n o)   u -   -  un\\nGiao duc hoc Viet Nam, NXB Dai hoc Su pham.\\n n    -    ) a   7\\nDai cuong Mi thuat, NXB Dai hoc Quoc gia Ha Noi.\\n3.Vi Cao Dam (2009), Giao trinh Phuong phap luan nghien cutu khoa hoc,\\nNXB Giao duc (tai ban lan thu hai).\\nTran Khanh Duc (2010), Giao duc va phat trien nguon nhan luc trong the ki 21,\\n4.\\nNXB Giao duc Viet Nam.\\n5. Ph6 Duc Hoa - Ngo Quang Son (2008), Ung dung cong nghe thong tin\\ntrong day hoc tich cuc, NXB Giao duc.\\n6.\\nPho Duic Hoa (2009), Phuong phap nghien cuu khoa hoc giao duc tieu hoc,\\nNXB Dai hoc Su pham.\\n7. Dang Vu Hoat (Chu bien) -Ha Thi Duc (2003), Li luan day hoc dai hoc,\\nNXB Dai hoc Su pham.\\n8.\\nDang Thanh Hung(2002),Day hoc hien dai:Li luan -Bien phap -Ki thuat,\\nNXB Dai hoc Quoc gia Ha Noi.\\n9. Doan Van Khai - Nguyen Anh Tuan - Du Dinh Phuc (2013), Giao trinh\\nnp o aXN oy oyy nno uyu don ooy dpyd Suonyd pa ooy i8ot\\nViet Nam (tai ban lan thu nhat).\\n10. Nguyen Van Khoi - Nguyen Van Binh (2007), Phuong phap luan nghien cutu\\nSu pham Ki thuat, NXB Dai hoc Quoc gia Ha Noi.\\n11. Hoang Moc Lan (2013), Giao trinh Phuong phap nghien cuu Tam li hoc,\\nNXB Dai hoc Quoc gia Ha Noi.\\n12. Phan Thanh Long (Chu bien) - Tran Quang Can - Nguyen Van Dien (2006),\\nLi luan giao duc, NXB Dai hoc Su pham.\\nSu pham.\\n16914. Dang Thi Bich Ngan (2005), Phuong phap day Mi thuat cho thieu nhi, NXB\\nVan hoa thong tin.\\n15. Phan Trong Ngo (2005), Day hoc va phuong phap day hoc trong nha truong,\\nNXB Dai hoc Su pham.\\n16. Tran Thi Tuyet Oanh (Chu bien) - Pham Khac Chuong - Pham Viet Vuong -\\nBui Minh Hien - Nguyen Ngoc Bao - Bui Van Quan - Phan Hong Vinh -\\nNguyen Van Dien - Ti Duc Van (2007), Giao trinh Giao duc hoc hien dai,\\nNXB Dai hoc Su pham.\\n18.Hoang Phe (Chu bien) - Hoang Thi Tuyen Linh -Vu Xuan Luong -\\nPham Thi Thuy - Dao Thi Minh Thu - Dang Thanh Hoa (201l), Tu dien\\ntieng Viet, NXB Da Nang.\\n19. Nguyén Quoc Toan (2009), Giao trinh Mi thuat va phuong phap day hoc\\nMi thuat, NXB Dai hoc Su pham.\\n20.Nguyen Thu Tuan(2011), Giao trinh Phuong phap day hoc Mi thuat -tap 1,\\nNXB Dai hoc Su pham.\\n21.Nguyen Thu Tuan (201l), Giao trinh Phuong phap day hoc Mi thuat - tap 2,\\nNXB Dai hoc Su pham.\\nNXB Tu dien bach khoa.\\n23. Thai Duy Tuyén (2008), Phuong phap day hoc truyen thong va doi moi,\\nNXB Giao duc.\\nPhuongphap nghien curu khoa hocgiao duc mam non,NXB Dai hoc Su pham\\n(in lan thu nam).\\n25. Phan Thi Hong Vinh (2007), Phuong phap day hoc Giao duc hoc, NXB\\nDai hoc Su pham.\\n26. Pham Viet Vuong (2004), Phuong phap luan nghien cutu khoa hoc, NXB\\nDai hoc Quoc gia Ha Noi (in lan thu tu).\\n27. Pham Viet Vuong (2005), Li luan giao duc, NXB Dai hoc Su pham....\\n170MOIBAN TIM DOC\\nNGUYEN QUOC TOAN\\nPHAM VAN TUYEN\\nLUAT\\nGiao trinh\\nXAGAN\\nVA\\nPHUONG PHAP\\nDAY HOC\\nMITHUAT\\nSP\\nNHAXUATBANDAI HOCSUPHM\\nNHA XUATBAN OAIHOC SU PHAT\\nNGUYEN THU TUAN\\nNGUYEN THU TUAN\\nGIAO TRINH\\nPHUONG PHAP\\nDAY HOC\\nAOTRINH\\nMi THUAT\\nPHUONG PHAP\\nTAP2\\nDAY HOC\\nMi THUAT\\nTAP1\\nSP\\nNHA XUAT BAN DAI HOCSU PHAM\\nSP\\nNHA XUAT BAN DAI HOC SU PHAM\\nSP\\nNHA XUAT BAN DAI HOC SU PHAM\\nISBN978-604-54-2258-8\\nDia chi:136 Duong Xuan Thuy -Quan Cau Gisy-Ha Nol\\nDien thoai:043.7547.735|Fax0437547911|Website:hitp://nxbdhsp.cduvn\\nPHONG KINH DOANHVA PHAT TRIEN THI TRUONG:\\nDien thoal:043.7549.202 Emal:kinhdoanh@nxbdhsp.edu.vn\\nSU\\nSACHDUOCGIOITHIEUTAITRUNGTAMPHATHANHSACHVAGIOITHIEUSANPHAM:\\n8935220561258\\nDien.thoal:043.7547708| E-mall:sachsp@nxbdhsp.cdu.vn\\nGia: 49.000d'"
      ]
     },
     "execution_count": 2,
     "metadata": {},
     "output_type": "execute_result"
    }
   ],
   "source": [
    "text = ''\n",
    "for doc in child_doc:\n",
    "    text += doc.page_content\n",
    "text"
   ]
  },
  {
   "cell_type": "code",
   "execution_count": 3,
   "metadata": {},
   "outputs": [
    {
     "data": {
      "text/plain": [
       "'NHUNGMAU CHUYEN\\nVE PHONG CACH TU DUY\\nCUA HO CHI MINH\\n6 Chi Minh co phong cach tu duy rieng, rat\\ndoc dao,khoa hoc va hieu qua, voi nhung\\ndac trung noi bat la:\\nPhong cach tu duy khoa hoc, cach mang va hien\\ndai: Xuat phat ti long yéu nuoc va muc dich tim duong\\ncuu nuoc, trong qua trinh hoat dong ly luan va thuc\\ntién phong phu, Ho Chi Minh da hinh thanh trong\\nminh mot phong cach tu duy khoa hoc, cach mang va\\nhién dai.\\nPhong cach tu duy doc lap, tu chu, sang tao: D6 la\\nphong cach tu duy khong giao dieu,rap khuon,khong\\nvay muon nguyen xi cua nguoi khac, het suc tranh loi\\ncu, duong mon, tu minh tim toi, suy nghi, truy den tan\\ncung ban chat cua su vat, hién tuong de tim ra chan ly,\\nphu hop voi nhu cau va dieu kien thuc tien.Ho Chi Minh\\nda khong ngung lam giau tri tue cua minh bang von'"
      ]
     },
     "execution_count": 3,
     "metadata": {},
     "output_type": "execute_result"
    }
   ],
   "source": [
    "data[2].page_content"
   ]
  },
  {
   "cell_type": "code",
   "execution_count": null,
   "metadata": {},
   "outputs": [],
   "source": [
    "import fitz\n",
    "\n",
    "pdf_document = \"books/pdf_folder/cac_phuong_phap_co_ban_trong_danh_gia_cam_quan_thuc_pham.pdf\"\n",
    "doc = fitz.open(pdf_document)\n",
    "\n",
    "for page_num in range(doc.page_count):\n",
    "    page = doc[page_num]\n",
    "    text = page.get_text(\"text\")\n",
    "    print(text)\n",
    "\n",
    "doc.close()"
   ]
  },
  {
   "cell_type": "code",
   "execution_count": null,
   "metadata": {},
   "outputs": [],
   "source": [
    "import os\n",
    "import fitz\n",
    "\n",
    "folder_path = \"books\"\n",
    "\n",
    "# Iterate through all files in the \"books\" folder\n",
    "for file_name in os.listdir(folder_path):\n",
    "    file_path = os.path.join(folder_path, file_name)\n",
    "\n",
    "    # Check if it's a PDF file\n",
    "    if file_name.endswith(\".pdf\"):\n",
    "        # Open the PDF document\n",
    "        doc = fitz.open(file_path)\n",
    "\n",
    "        # Iterate through each page in the document\n",
    "        for page_num in range(doc.page_count):\n",
    "            # Get the current page\n",
    "            page = doc[page_num]\n",
    "\n",
    "            # Extract text from the page\n",
    "            text = page.get_text(\"text\")\n",
    "\n",
    "            # Print the text content of the page\n",
    "            print(f\"File: {file_name}, Page {page_num + 1}:\\n{text}\\n{'='*20}\")\n",
    "\n",
    "        # Close the PDF document\n",
    "        doc.close()\n"
   ]
  },
  {
   "cell_type": "code",
   "execution_count": 27,
   "metadata": {},
   "outputs": [],
   "source": [
    "import API_keys\n",
    "\n",
    "from langchain_community.vectorstores import Chroma\n",
    "from langchain_openai import OpenAIEmbeddings\n",
    "embedding=OpenAIEmbeddings(chunk_size=1)\n",
    "import sys\n",
    "sys.path.append(\"../\")\n",
    "from methods import *\n",
    "\n",
    "\n",
    "# Load book_info database\n",
    "RobotInfo =  DATABASE(db_path='robot_knowledge', embedding=embedding, parent_path=\"parents\")"
   ]
  },
  {
   "cell_type": "code",
   "execution_count": 4,
   "metadata": {},
   "outputs": [],
   "source": [
    "# file = '/home/xuanai/dang_fs/www/html/Knowledge/final_so_tay_thu_vien_nh23_24_8223.docx'\n",
    "# RobotInfo.insert_document(file)\n",
    "RobotInfo.insert_processed_texts(data)"
   ]
  },
  {
   "cell_type": "code",
   "execution_count": 5,
   "metadata": {},
   "outputs": [
    {
     "data": {
      "text/plain": [
       "[Document(page_content='- Chuyen di “tao mat tran\" cua Bac\\n39\\nHong Khanh\\nII- Nhung mau chuyen ve phong cach lam viec\\ncua H6 Chi Minh\\n44\\n- Bac ve Tan Trao\\n48\\nChu Van Tan\\n-Nhung ngay dau gan Bac\\n51\\nHoang Huu Khang\\n- Mai mai nho loi Bac day: \"Khong lam quan cach mang\"\\n58\\nHa Van Tinh\\n- Hinh anh Bac Ho duoc ghi sau trong tri nho cua toi\\n61\\nNguyen Van Luu\\n- C6 Bac trong tim\\n63\\nDam Quang Trung', metadata={'source': 'books/pdf_folder/skv125300_2727.pdf', 'file_path': 'books/pdf_folder/skv125300_2727.pdf', 'page': 5, 'total_pages': 10, 'format': 'PDF 1.4', 'title': '', 'author': '', 'subject': '', 'keywords': '', 'creator': '', 'producer': 'PDFill: Free PDF Writer and Tools', 'creationDate': \"D:20231206160941+07'00'\", 'modDate': \"D:20231212083357+07'00'\", 'trapped': ''}),\n",
       " Document(page_content='MUC LUC\\nTrang\\nLoi Nha xuat ban\\n1. Nhung mau chuyen ve phong cach tu duy cua\\nH6 Chi Minh\\nNhung loi Bac day\\nPham Van Khoa\\n-Nhung ngay doi co quan cung Bac\\n12\\nHoang Huu Khang\\n- Nguoi day chung toi cong tac van dong quan chung\\n18\\nDuong Dai Lam\\n-\"Lam can bo la lam day to nhan dan, khong phai lam\\n23\\nquan\"\\nVi Mi Ké\\n25\\nYbi Aléo\\n- Bac H6 noi ve hang my nghe\\n28\\nNguyen Khang\\n32\\nNguyen Duc Thuan\\n231', metadata={'source': 'books/pdf_folder/skv125300_2727.pdf', 'file_path': 'books/pdf_folder/skv125300_2727.pdf', 'page': 4, 'total_pages': 10, 'format': 'PDF 1.4', 'title': '', 'author': '', 'subject': '', 'keywords': '', 'creator': '', 'producer': 'PDFill: Free PDF Writer and Tools', 'creationDate': \"D:20231206160941+07'00'\", 'modDate': \"D:20231212083357+07'00'\", 'trapped': ''}),\n",
       " Document(page_content='NHUNGMAU CHUYEN\\nVE PHONG CACH TU DUY\\nCUA HO CHI MINH\\n6 Chi Minh co phong cach tu duy rieng, rat\\ndoc dao,khoa hoc va hieu qua, voi nhung\\ndac trung noi bat la:\\nPhong cach tu duy khoa hoc, cach mang va hien\\ndai: Xuat phat ti long yéu nuoc va muc dich tim duong\\ncuu nuoc, trong qua trinh hoat dong ly luan va thuc\\ntién phong phu, Ho Chi Minh da hinh thanh trong', metadata={'source': 'books/pdf_folder/skv125300_2727.pdf', 'file_path': 'books/pdf_folder/skv125300_2727.pdf', 'page': 2, 'total_pages': 10, 'format': 'PDF 1.4', 'title': '', 'author': '', 'subject': '', 'keywords': '', 'creator': '', 'producer': 'PDFill: Free PDF Writer and Tools', 'creationDate': \"D:20231206160941+07'00'\", 'modDate': \"D:20231212083357+07'00'\", 'trapped': ''})]"
      ]
     },
     "execution_count": 5,
     "metadata": {},
     "output_type": "execute_result"
    }
   ],
   "source": [
    "RobotInfo.retriever.get_relevant_documents(\"mảu chuyển 'chuyến đi tạo mặt trận của Bác nằm ở cuốn sách nào?\")"
   ]
  },
  {
   "cell_type": "code",
   "execution_count": 20,
   "metadata": {},
   "outputs": [
    {
     "data": {
      "text/plain": [
       "4752"
      ]
     },
     "execution_count": 20,
     "metadata": {},
     "output_type": "execute_result"
    }
   ],
   "source": [
    "len(text)"
   ]
  },
  {
   "cell_type": "code",
   "execution_count": 38,
   "metadata": {},
   "outputs": [
    {
     "name": "stdout",
     "output_type": "stream",
     "text": [
      "NHIEUTAC GIA\n",
      "Nhurng mau chuyen ve\n",
      "PHONG CACH\n",
      "HO CHI MINH\n",
      "(Xuat ban lan thur ba)\n",
      "SKV125300\n",
      "DH\n",
      "ST\n",
      "NHA XUAT BAN CHINH TRI QUOC GIA SU THAT\n",
      "059,70L/ 92\n",
      "10576\n",
      "NHIEU TAC GIA\n",
      "Nhung mau chuyen ve\n",
      "PHONG CACH\n",
      "HO CHI MINH\n",
      "(Xuat ban lan thur ba)\n",
      "THU VEN TRUONG DHSPKT\n",
      "SKV\n",
      "125300\n",
      "NHA XUAT BAN CHINH TRI QUOC GIA SU THAT\n",
      "Ha Noi - 2019\n",
      "NHUNGMAU CHUYEN\n",
      "VE PHONG CACH TU DUY\n",
      "CUA HO CHI MINH\n",
      "6 Chi Minh co phong cach tu duy rieng, rat\n",
      "doc dao,khoa hoc va hieu qua, voi nhung\n",
      "dac trung noi bat la:\n",
      "Phong cach tu duy khoa hoc, cach mang va hien\n",
      "dai: Xuat phat ti long yéu nuoc va muc dich tim duong\n",
      "cuu nuoc, trong qua trinh hoat dong ly luan va thuc\n",
      "tién phong phu, Ho Chi Minh da hinh thanh trong\n",
      "minh mot phong cach tu duy khoa hoc, cach mang va\n",
      "hién dai.\n",
      "Phong cach tu duy doc lap, tu chu, sang tao: D6 la\n",
      "phong cach tu duy khong giao dieu,rap khuon,khong\n",
      "vay muon nguyen xi cua nguoi khac, het suc tranh loi\n",
      "cu, duong mon, tu minh tim toi, suy nghi, truy den tan\n",
      "cung ban chat cua su vat, hién tuong de tim ra chan ly,\n",
      "phu hop voi nhu cau va dieu kien thuc tien.Ho Chi Minh\n",
      "da khong ngung lam giau tri tue cua minh bang von\n",
      "van hoa - tu tuong cua nhan loai thong qua viec tim\n",
      "hieu, tiep thu nhung yeu to dan chi, tien bo,nhan van\n",
      "cuia cac hoc thuyet khac tren nen tang cua chu nghia\n",
      "Mac -Lenin va tu duy khoa hoc, cach mang.\n",
      "Phong cach tu duy hai hoa, uyen chuyen, co ly co\n",
      "tinh: Ho Chi Minh luon xuat phat tü cai chung, cai\n",
      "nhan loai,tu nhung chan ly phobien,nhung“lephai\n",
      "khong ai choi cai duoc\" denhan thuc va ly giai nhung\n",
      "van de cua thuc tien. Tu duy Ho Chi Minh luon co su\n",
      "ket hop hai hoa giua dan va nuoc, giai cap va dan toc,\n",
      "dan toc va nhan loai.\n",
      "MUC LUC\n",
      "Trang\n",
      "Loi Nha xuat ban\n",
      "1. Nhung mau chuyen ve phong cach tu duy cua\n",
      "H6 Chi Minh\n",
      "Nhung loi Bac day\n",
      "Pham Van Khoa\n",
      "-Nhung ngay doi co quan cung Bac\n",
      "12\n",
      "Hoang Huu Khang\n",
      "- Nguoi day chung toi cong tac van dong quan chung\n",
      "18\n",
      "Duong Dai Lam\n",
      "-\"Lam can bo la lam day to nhan dan, khong phai lam\n",
      "23\n",
      "quan\"\n",
      "Vi Mi Ké\n",
      "25\n",
      "Ybi Aléo\n",
      "- Bac H6 noi ve hang my nghe\n",
      "28\n",
      "Nguyen Khang\n",
      "32\n",
      "Nguyen Duc Thuan\n",
      "231\n",
      "- Chuyen di “tao mat tran\" cua Bac\n",
      "39\n",
      "Hong Khanh\n",
      "II- Nhung mau chuyen ve phong cach lam viec\n",
      "cua H6 Chi Minh\n",
      "44\n",
      "- Bac ve Tan Trao\n",
      "48\n",
      "Chu Van Tan\n",
      "-Nhung ngay dau gan Bac\n",
      "51\n",
      "Hoang Huu Khang\n",
      "- Mai mai nho loi Bac day: \"Khong lam quan cach mang\"\n",
      "58\n",
      "Ha Van Tinh\n",
      "- Hinh anh Bac Ho duoc ghi sau trong tri nho cua toi\n",
      "61\n",
      "Nguyen Van Luu\n",
      "- C6 Bac trong tim\n",
      "63\n",
      "Dam Quang Trung\n",
      "-Nhung nam thang khong the nao quen\n",
      "70\n",
      "Vo Nguyen Giap ke\n",
      "Huu Mai ghi\n",
      "- Nhung ngay dau  Bac Bo phu\n",
      "77\n",
      "Nguyen Trieu\n",
      "- Ong Ké Cao Bang\n",
      "81\n",
      "Vu Dinh Hoe\n",
      "- Bon muoi ngay, cung ve voi Bac\n",
      "85\n",
      "Tran Dai Nghia\n",
      "-Mot ngay lam viec cua Bac\n",
      "88\n",
      "HoangHuuKhang\n",
      "- Ai co trach nhiem trong nguoi?\n",
      "90\n",
      "Song Tung\n",
      "232\n",
      "- Nhung chang duong ben Bac\n",
      "94\n",
      "Vuong Van Long\n",
      "- Nhung thang ngay ben Bac\n",
      "98\n",
      "Lé Huu Lap\n",
      "- Phong cach lam viec cua Bac H6\n",
      "107\n",
      "Viet Phuong\n",
      "II- Nhung mau chuyen ve phong cach dien dat\n",
      "cua Ho Chi Minh\n",
      "110\n",
      "-Mot lan gap Bac\n",
      "114\n",
      "Phan Tu\n",
      "- Cac nha bao phai co trach nhiem dung de tieng me\n",
      "117\n",
      "de cua ta mai mot di\n",
      "Thanh Van\n",
      "119\n",
      "- Nhung ngay gan Bac\n",
      "Vu Anh ke\n",
      "Lai Giang ghi\n",
      "124\n",
      "- Vinh hanh lon lao nhat cua doi toi\n",
      "Le Thi Hao\n",
      "IV- Nhung mau chuyén ve phong cach ung xu\n",
      "128\n",
      "cua Ho Chi Minh\n",
      "133\n",
      "-Bac Ho cham soc can bo\n",
      "Hoang To\n",
      "136\n",
      "-Nhung dieu toi biet ve Bac Ho\n",
      "Nguyen Duc Thuy\n",
      "138\n",
      "-Thang Tam co bay\n",
      "Vu Dinh Huynh\n",
      "147\n",
      "- Tinh huu nghi trong sang tua pha le\n",
      "Nguyen Tien Thong\n",
      "233\n",
      "- Cai vong bac\n",
      "150\n",
      "Hoang Giai\n",
      "-Khong ai yeu thuong minh nhu Bac\n",
      "152\n",
      "Viet Phuong\n",
      "-Nho lai nhung lan duoc gap va nhan thu cua Bac\n",
      "156\n",
      "Vuong Kiem Toan\n",
      "- Bac Ho voi viec khen thuong nhung nguoi lam viec tot\n",
      "159\n",
      "Tran Van Vuong ke\n",
      "Pham Thi Lai ghi\n",
      "- Qua cua Bac Ho tang cac chau\n",
      "164\n",
      "Hoang Giai\n",
      "- Chu con tre, chu vao ham tru an truoc di\n",
      "166\n",
      "Thuy Truong\n",
      "V- Nhung mau chuyen ve phong cach song cua\n",
      "H6 Chi Minh\n",
      "168\n",
      "- Bac Ho song mai trong toi\n",
      "172\n",
      "Hoang Huu Khang ke\n",
      "Chu Duc Tinh ghi\n",
      "- Hinh anh Bac Ho ghi sau trong tri nho cua toi\n",
      "177\n",
      "Nguyen Van Luu ke\n",
      "Pham Thi Lai ghi\n",
      "- Gap Bac  Con Minh\n",
      "180\n",
      "Tran Viet Hoa\n",
      "- Quay phim Bac  Chien khu Viet Bac\n",
      "186\n",
      "Le Minh Hien\n",
      "- Mot so mau chuyen ve doi song hang ngay cua Bac Ho\n",
      "190\n",
      "Viet Phuong\n",
      "234\n",
      "- Cach an mac\n",
      "203\n",
      "Hong Khanh\n",
      "- Nhung giay phut dudc gan Bac H6\n",
      "217\n",
      "Song Tung\n",
      "- Chuyén ngudi sua doi dép Bac H6\n",
      "220\n",
      "Viet Anh.\n",
      "- Chiec may dieu hoa nhiet do dat trong phong Bac\n",
      "224\n",
      "Pham Lé Ninh ke\n",
      "Pham Ban ghi\n",
      "235\n",
      "NHA XUAT BAN CHiNH TRI QUOC GIA SU THAT; S6 6/8G Duy Tan, Cau GIay,Ha Noi\n",
      "DT:080.49221,Fax:080.49222,Emaill: suthat@nxbctqg.vn,Website:www.nxbctqg.n\n",
      "TIM DOCSACH\n",
      "CUA NHA XUAT BAN CHINH TRI QUOC GIA SUTHAT\n",
      "Hong Khanh\n",
      "PHONG CACH BAC HO DEN CO SO (Xuat ban lan thu ba)\n",
      "Khu di tich Chi tich Ho Chi Minh tai Phu Chui tich\n",
      "CHUYEN KE VE BAC HO QUA CAC TAILIEU VA HIEN VAT\n",
      "TS.Tran Viet Hoan\n",
      "DAO DUC BAC HO -TAM GUONG SOI CHO MUON DOI\n",
      "SBN\n",
      "7860457487\n",
      "SIE\n",
      "8935279112654\n",
      "Gia:45.000d\n"
     ]
    }
   ],
   "source": [
    "text = ''\n",
    "for i in data:\n",
    "    print(i.page_content)"
   ]
  },
  {
   "cell_type": "code",
   "execution_count": 19,
   "metadata": {},
   "outputs": [
    {
     "data": {
      "text/plain": [
       "'NHIEUTAC GIA\\nNhurng mau chuyen ve\\nPHONG CACH\\nHO CHI MINH\\n(Xuat ban lan thur ba)\\nSKV125300\\nDH\\nST\\nNHA XUAT BAN CHINH TRI QUOC GIA SU THAT059,70L/ 92\\n10576\\nNHIEU TAC GIA\\nNhung mau chuyen ve\\nPHONG CACH\\nHO CHI MINH\\n(Xuat ban lan thur ba)\\nTHU VEN TRUONG DHSPKT\\nSKV\\n125300\\nNHA XUAT BAN CHINH TRI QUOC GIA SU THAT\\nHa Noi - 2019NHUNGMAU CHUYEN\\nVE PHONG CACH TU DUY\\nCUA HO CHI MINH\\n6 Chi Minh co phong cach tu duy rieng, rat\\ndoc dao,khoa hoc va hieu qua, voi nhung\\ndac trung noi bat la:\\nPhong cach tu duy khoa hoc, cach mang va hien\\ndai: Xuat phat ti long yéu nuoc va muc dich tim duong\\ncuu nuoc, trong qua trinh hoat dong ly luan va thuc\\ntién phong phu, Ho Chi Minh da hinh thanh trong\\nminh mot phong cach tu duy khoa hoc, cach mang va\\nhién dai.\\nPhong cach tu duy doc lap, tu chu, sang tao: D6 la\\nphong cach tu duy khong giao dieu,rap khuon,khong\\nvay muon nguyen xi cua nguoi khac, het suc tranh loi\\ncu, duong mon, tu minh tim toi, suy nghi, truy den tan\\ncung ban chat cua su vat, hién tuong de tim ra chan ly,\\nphu hop voi nhu cau va dieu kien thuc tien.Ho Chi Minh\\nda khong ngung lam giau tri tue cua minh bang vonvan hoa - tu tuong cua nhan loai thong qua viec tim\\nhieu, tiep thu nhung yeu to dan chi, tien bo,nhan van\\ncuia cac hoc thuyet khac tren nen tang cua chu nghia\\nMac -Lenin va tu duy khoa hoc, cach mang.\\nPhong cach tu duy hai hoa, uyen chuyen, co ly co\\ntinh: Ho Chi Minh luon xuat phat tü cai chung, cai\\nnhan loai,tu nhung chan ly phobien,nhung“lephai\\nkhong ai choi cai duoc\" denhan thuc va ly giai nhung\\nvan de cua thuc tien. Tu duy Ho Chi Minh luon co su\\nket hop hai hoa giua dan va nuoc, giai cap va dan toc,\\ndan toc va nhan loai.MUC LUC\\nTrang\\nLoi Nha xuat ban\\n1. Nhung mau chuyen ve phong cach tu duy cua\\nH6 Chi Minh\\nNhung loi Bac day\\nPham Van Khoa\\n-Nhung ngay doi co quan cung Bac\\n12\\nHoang Huu Khang\\n- Nguoi day chung toi cong tac van dong quan chung\\n18\\nDuong Dai Lam\\n-\"Lam can bo la lam day to nhan dan, khong phai lam\\n23\\nquan\"\\nVi Mi Ké\\n25\\nYbi Aléo\\n- Bac H6 noi ve hang my nghe\\n28\\nNguyen Khang\\n32\\nNguyen Duc Thuan\\n231- Chuyen di “tao mat tran\" cua Bac\\n39\\nHong Khanh\\nII- Nhung mau chuyen ve phong cach lam viec\\ncua H6 Chi Minh\\n44\\n- Bac ve Tan Trao\\n48\\nChu Van Tan\\n-Nhung ngay dau gan Bac\\n51\\nHoang Huu Khang\\n- Mai mai nho loi Bac day: \"Khong lam quan cach mang\"\\n58\\nHa Van Tinh\\n- Hinh anh Bac Ho duoc ghi sau trong tri nho cua toi\\n61\\nNguyen Van Luu\\n- C6 Bac trong tim\\n63\\nDam Quang Trung\\n-Nhung nam thang khong the nao quen\\n70\\nVo Nguyen Giap ke\\nHuu Mai ghi\\n- Nhung ngay dau  Bac Bo phu\\n77\\nNguyen Trieu\\n- Ong Ké Cao Bang\\n81\\nVu Dinh Hoe\\n- Bon muoi ngay, cung ve voi Bac\\n85\\nTran Dai Nghia\\n-Mot ngay lam viec cua Bac\\n88\\nHoangHuuKhang\\n- Ai co trach nhiem trong nguoi?\\n90\\nSong Tung\\n232- Nhung chang duong ben Bac\\n94\\nVuong Van Long\\n- Nhung thang ngay ben Bac\\n98\\nLé Huu Lap\\n- Phong cach lam viec cua Bac H6\\n107\\nViet Phuong\\nII- Nhung mau chuyen ve phong cach dien dat\\ncua Ho Chi Minh\\n110\\n-Mot lan gap Bac\\n114\\nPhan Tu\\n- Cac nha bao phai co trach nhiem dung de tieng me\\n117\\nde cua ta mai mot di\\nThanh Van\\n119\\n- Nhung ngay gan Bac\\nVu Anh ke\\nLai Giang ghi\\n124\\n- Vinh hanh lon lao nhat cua doi toi\\nLe Thi Hao\\nIV- Nhung mau chuyén ve phong cach ung xu\\n128\\ncua Ho Chi Minh\\n133\\n-Bac Ho cham soc can bo\\nHoang To\\n136\\n-Nhung dieu toi biet ve Bac Ho\\nNguyen Duc Thuy\\n138\\n-Thang Tam co bay\\nVu Dinh Huynh\\n147\\n- Tinh huu nghi trong sang tua pha le\\nNguyen Tien Thong\\n233- Cai vong bac\\n150\\nHoang Giai\\n-Khong ai yeu thuong minh nhu Bac\\n152\\nViet Phuong\\n-Nho lai nhung lan duoc gap va nhan thu cua Bac\\n156\\nVuong Kiem Toan\\n- Bac Ho voi viec khen thuong nhung nguoi lam viec tot\\n159\\nTran Van Vuong ke\\nPham Thi Lai ghi\\n- Qua cua Bac Ho tang cac chau\\n164\\nHoang Giai\\n- Chu con tre, chu vao ham tru an truoc di\\n166\\nThuy Truong\\nV- Nhung mau chuyen ve phong cach song cua\\nH6 Chi Minh\\n168\\n- Bac Ho song mai trong toi\\n172\\nHoang Huu Khang ke\\nChu Duc Tinh ghi\\n- Hinh anh Bac Ho ghi sau trong tri nho cua toi\\n177\\nNguyen Van Luu ke\\nPham Thi Lai ghi\\n- Gap Bac  Con Minh\\n180\\nTran Viet Hoa\\n- Quay phim Bac  Chien khu Viet Bac\\n186\\nLe Minh Hien\\n- Mot so mau chuyen ve doi song hang ngay cua Bac Ho\\n190\\nViet Phuong\\n234- Cach an mac\\n203\\nHong Khanh\\n- Nhung giay phut dudc gan Bac H6\\n217\\nSong Tung\\n- Chuyén ngudi sua doi dép Bac H6\\n220\\nViet Anh.\\n- Chiec may dieu hoa nhiet do dat trong phong Bac\\n224\\nPham Lé Ninh ke\\nPham Ban ghi\\n235NHA XUAT BAN CHiNH TRI QUOC GIA SU THAT; S6 6/8G Duy Tan, Cau GIay,Ha Noi\\nDT:080.49221,Fax:080.49222,Emaill: suthat@nxbctqg.vn,Website:www.nxbctqg.n\\nTIM DOCSACH\\nCUA NHA XUAT BAN CHINH TRI QUOC GIA SUTHAT\\nHong Khanh\\nPHONG CACH BAC HO DEN CO SO (Xuat ban lan thu ba)\\nKhu di tich Chi tich Ho Chi Minh tai Phu Chui tich\\nCHUYEN KE VE BAC HO QUA CAC TAILIEU VA HIEN VAT\\nTS.Tran Viet Hoan\\nDAO DUC BAC HO -TAM GUONG SOI CHO MUON DOI\\nSBN\\n7860457487\\nSIE\\n8935279112654\\nGia:45.000d'"
      ]
     },
     "execution_count": 19,
     "metadata": {},
     "output_type": "execute_result"
    }
   ],
   "source": [
    "text"
   ]
  },
  {
   "cell_type": "code",
   "execution_count": 8,
   "metadata": {},
   "outputs": [],
   "source": [
    "from langchain_openai import ChatOpenAI\n",
    "from langchain.tools.retriever import create_retriever_tool\n",
    "from langchain.chains import RetrievalQA\n",
    "\n",
    "\n",
    "retriever = RobotInfo.db.as_retriever(\n",
    "    search_type=\"similarity_score_threshold\", search_kwargs={\"score_threshold\": 0.5, \"k\": 4}\n",
    ")\n",
    "llm = ChatOpenAI(model=\"gpt-3.5-turbo-0125\")\n",
    "chain = RetrievalQA.from_chain_type(llm=llm, chain_type='stuff', retriever=retriever, return_source_documents=True, verbose=True, input_key=\"question\")"
   ]
  },
  {
   "cell_type": "code",
   "execution_count": 43,
   "metadata": {},
   "outputs": [
    {
     "name": "stdout",
     "output_type": "stream",
     "text": [
      "\n",
      "\n",
      "\u001b[1m> Entering new RetrievalQA chain...\u001b[0m\n",
      "\n",
      "\u001b[1m> Finished chain.\u001b[0m\n"
     ]
    },
    {
     "data": {
      "text/plain": [
       "{'question': 'tác giả của một số mẩu chủyện về đời sống hằng ngày của Bác',\n",
       " 'result': 'Tác giả của một số mẩu chuyện về đời sống hằng ngày của Bác là Le Minh Hien.',\n",
       " 'source_documents': [Document(page_content='Pham Van Khoa\\n-Nhung ngay doi co quan cung Bac\\n12\\nHoang Huu Khang\\n- Nguoi day chung toi cong tac van dong quan chung\\n18', metadata={'author': '', 'creationDate': \"D:20231206160941+07'00'\", 'creator': '', 'doc_id': 'dbbf91ea-2e17-4f79-b210-7e8179900142', 'file_path': 'books/pdf_folder/skv125300_2727.pdf', 'format': 'PDF 1.4', 'keywords': '', 'modDate': \"D:20231212083357+07'00'\", 'page': 4, 'producer': 'PDFill: Free PDF Writer and Tools', 'source': 'books/pdf_folder/skv125300_2727.pdf', 'subject': '', 'title': '', 'total_pages': 10, 'trapped': ''}),\n",
       "  Document(page_content='51\\nHoang Huu Khang\\n- Mai mai nho loi Bac day: \"Khong lam quan cach mang\"\\n58\\nHa Van Tinh', metadata={'author': '', 'creationDate': \"D:20231206160941+07'00'\", 'creator': '', 'doc_id': 'fe00da79-cd80-4e13-8def-7cd11648fb45', 'file_path': 'books/pdf_folder/skv125300_2727.pdf', 'format': 'PDF 1.4', 'keywords': '', 'modDate': \"D:20231212083357+07'00'\", 'page': 5, 'producer': 'PDFill: Free PDF Writer and Tools', 'source': 'books/pdf_folder/skv125300_2727.pdf', 'subject': '', 'title': '', 'total_pages': 10, 'trapped': ''}),\n",
       "  Document(page_content='152\\nViet Phuong\\n-Nho lai nhung lan duoc gap va nhan thu cua Bac\\n156\\nVuong Kiem Toan', metadata={'author': '', 'creationDate': \"D:20231206160941+07'00'\", 'creator': '', 'doc_id': '747fc18c-cd61-43ee-ba87-eae833e2b8df', 'file_path': 'books/pdf_folder/skv125300_2727.pdf', 'format': 'PDF 1.4', 'keywords': '', 'modDate': \"D:20231212083357+07'00'\", 'page': 7, 'producer': 'PDFill: Free PDF Writer and Tools', 'source': 'books/pdf_folder/skv125300_2727.pdf', 'subject': '', 'title': '', 'total_pages': 10, 'trapped': ''}),\n",
       "  Document(page_content='186\\nLe Minh Hien\\n- Mot so mau chuyen ve doi song hang ngay cua Bac Ho\\n190\\nViet Phuong\\n234', metadata={'author': '', 'creationDate': \"D:20231206160941+07'00'\", 'creator': '', 'doc_id': '8d0d0f74-4292-4c75-91c6-a27019414252', 'file_path': 'books/pdf_folder/skv125300_2727.pdf', 'format': 'PDF 1.4', 'keywords': '', 'modDate': \"D:20231212083357+07'00'\", 'page': 7, 'producer': 'PDFill: Free PDF Writer and Tools', 'source': 'books/pdf_folder/skv125300_2727.pdf', 'subject': '', 'title': '', 'total_pages': 10, 'trapped': ''})]}"
      ]
     },
     "execution_count": 43,
     "metadata": {},
     "output_type": "execute_result"
    }
   ],
   "source": [
    "chain.invoke(\"tác giả của một số mẩu chủyện về đời sống hằng ngày của Bác\")"
   ]
  },
  {
   "cell_type": "code",
   "execution_count": 44,
   "metadata": {},
   "outputs": [
    {
     "name": "stdout",
     "output_type": "stream",
     "text": [
      "\n",
      "\n",
      "\u001b[1m> Entering new RetrievalQA chain...\u001b[0m\n",
      "\n",
      "\u001b[1m> Finished chain.\u001b[0m\n"
     ]
    },
    {
     "data": {
      "text/plain": [
       "{'question': 'tác giả của mot so mau chuyen ve doi song hang ngay cua Bac',\n",
       " 'result': 'Tác giả của một số mẩu chuyện về đời sống hàng ngày của Bác là Le Minh Hien.',\n",
       " 'source_documents': [Document(page_content='186\\nLe Minh Hien\\n- Mot so mau chuyen ve doi song hang ngay cua Bac Ho\\n190\\nViet Phuong\\n234', metadata={'author': '', 'creationDate': \"D:20231206160941+07'00'\", 'creator': '', 'doc_id': '8d0d0f74-4292-4c75-91c6-a27019414252', 'file_path': 'books/pdf_folder/skv125300_2727.pdf', 'format': 'PDF 1.4', 'keywords': '', 'modDate': \"D:20231212083357+07'00'\", 'page': 7, 'producer': 'PDFill: Free PDF Writer and Tools', 'source': 'books/pdf_folder/skv125300_2727.pdf', 'subject': '', 'title': '', 'total_pages': 10, 'trapped': ''}),\n",
       "  Document(page_content='- Chuyen di “tao mat tran\" cua Bac\\n39\\nHong Khanh\\nII- Nhung mau chuyen ve phong cach lam viec\\ncua H6 Chi Minh\\n44', metadata={'author': '', 'creationDate': \"D:20231206160941+07'00'\", 'creator': '', 'doc_id': 'fe00da79-cd80-4e13-8def-7cd11648fb45', 'file_path': 'books/pdf_folder/skv125300_2727.pdf', 'format': 'PDF 1.4', 'keywords': '', 'modDate': \"D:20231212083357+07'00'\", 'page': 5, 'producer': 'PDFill: Free PDF Writer and Tools', 'source': 'books/pdf_folder/skv125300_2727.pdf', 'subject': '', 'title': '', 'total_pages': 10, 'trapped': ''}),\n",
       "  Document(page_content='51\\nHoang Huu Khang\\n- Mai mai nho loi Bac day: \"Khong lam quan cach mang\"\\n58\\nHa Van Tinh', metadata={'author': '', 'creationDate': \"D:20231206160941+07'00'\", 'creator': '', 'doc_id': 'fe00da79-cd80-4e13-8def-7cd11648fb45', 'file_path': 'books/pdf_folder/skv125300_2727.pdf', 'format': 'PDF 1.4', 'keywords': '', 'modDate': \"D:20231212083357+07'00'\", 'page': 5, 'producer': 'PDFill: Free PDF Writer and Tools', 'source': 'books/pdf_folder/skv125300_2727.pdf', 'subject': '', 'title': '', 'total_pages': 10, 'trapped': ''}),\n",
       "  Document(page_content='152\\nViet Phuong\\n-Nho lai nhung lan duoc gap va nhan thu cua Bac\\n156\\nVuong Kiem Toan', metadata={'author': '', 'creationDate': \"D:20231206160941+07'00'\", 'creator': '', 'doc_id': '747fc18c-cd61-43ee-ba87-eae833e2b8df', 'file_path': 'books/pdf_folder/skv125300_2727.pdf', 'format': 'PDF 1.4', 'keywords': '', 'modDate': \"D:20231212083357+07'00'\", 'page': 7, 'producer': 'PDFill: Free PDF Writer and Tools', 'source': 'books/pdf_folder/skv125300_2727.pdf', 'subject': '', 'title': '', 'total_pages': 10, 'trapped': ''})]}"
      ]
     },
     "execution_count": 44,
     "metadata": {},
     "output_type": "execute_result"
    }
   ],
   "source": [
    "chain.invoke('tác giả của mot so mau chuyen ve doi song hang ngay cua Bac')"
   ]
  },
  {
   "cell_type": "code",
   "execution_count": 21,
   "metadata": {},
   "outputs": [],
   "source": [
    "from langchain.tools.retriever import create_retriever_tool\n",
    "retriever = RobotInfo.db.as_retriever(\n",
    "    search_type=\"similarity_score_threshold\", search_kwargs={\"score_threshold\": 0.2, \"k\": 4}\n",
    ")\n",
    "\n",
    "tool = create_retriever_tool(\n",
    "    retriever,\n",
    "    \"book_researcher\",\n",
    "    \"tìm kiếm và trả lời các thông tin về sách và về thư viện cho người dùng\",\n",
    ")"
   ]
  },
  {
   "cell_type": "code",
   "execution_count": 21,
   "metadata": {},
   "outputs": [
    {
     "ename": "NameError",
     "evalue": "name 'tool' is not defined",
     "output_type": "error",
     "traceback": [
      "\u001b[0;31m---------------------------------------------------------------------------\u001b[0m",
      "\u001b[0;31mNameError\u001b[0m                                 Traceback (most recent call last)",
      "Cell \u001b[0;32mIn[21], line 1\u001b[0m\n\u001b[0;32m----> 1\u001b[0m \u001b[43mtool\u001b[49m\u001b[38;5;241m.\u001b[39mrun({\u001b[38;5;124m'\u001b[39m\u001b[38;5;124mmessages\u001b[39m\u001b[38;5;124m'\u001b[39m: [\u001b[38;5;124m'\u001b[39m\u001b[38;5;124mhãy nêu nội quy trong thư viện cho tôi\u001b[39m\u001b[38;5;124m'\u001b[39m]})\n",
      "\u001b[0;31mNameError\u001b[0m: name 'tool' is not defined"
     ]
    }
   ],
   "source": [
    "tool.run({'messages': ['hãy nêu nội quy trong thư viện cho tôi']})"
   ]
  },
  {
   "cell_type": "markdown",
   "metadata": {},
   "source": [
    "#MULTIQUERY"
   ]
  },
  {
   "cell_type": "code",
   "execution_count": 41,
   "metadata": {},
   "outputs": [
    {
     "name": "stderr",
     "output_type": "stream",
     "text": [
      "INFO:langchain.retrievers.multi_query:Generated queries: ['1. Bác đã tạo mặt trận ở trang nào trong chuyến đi của mình?', '2. Trong chuyến đi của Bác, mặt trận được tạo ở trang số mấy?', '3. Ở trang nào trong chuyến đi, Bác đã tạo mặt trận?']\n"
     ]
    }
   ],
   "source": [
    "from langchain.chat_models import ChatOpenAI\n",
    "from langchain.retrievers.multi_query import MultiQueryRetriever\n",
    "\n",
    "question = \"chuyến đi tạo mặt trận của Bác nằm ở trang mấy\"\n",
    "\n",
    "llm = ChatOpenAI(temperature=0)\n",
    "\n",
    "# we instantiated the retreiever above\n",
    "retriever_from_llm = MultiQueryRetriever.from_llm(\n",
    "    retriever=RobotInfo.db.as_retriever(), llm=llm\n",
    ")\n",
    "\n",
    "# Set logging for the queries\n",
    "import logging\n",
    "\n",
    "logging.basicConfig()\n",
    "logging.getLogger(\"langchain.retrievers.multi_query\").setLevel(logging.INFO)\n",
    "\n",
    "unique_docs = retriever_from_llm.get_relevant_documents(query=question)"
   ]
  },
  {
   "cell_type": "code",
   "execution_count": 40,
   "metadata": {},
   "outputs": [
    {
     "ename": "OutputParserException",
     "evalue": "Invalid json output: Xin lỗi, tôi không thể trả lời câu hỏi này vì không có đủ thông tin về cuốn sách \"Chuyến đi tạo mặt trận của Bác\". Bạn có thể cung cấp thêm thông tin như tác giả, năm xuất bản hoặc nhà xuất bản để tôi có thể tìm kiếm thông tin chính xác hơn không?",
     "output_type": "error",
     "traceback": [
      "\u001b[0;31m---------------------------------------------------------------------------\u001b[0m",
      "\u001b[0;31mJSONDecodeError\u001b[0m                           Traceback (most recent call last)",
      "File \u001b[0;32m~/Python-env/LLM2/lib/python3.10/site-packages/langchain_core/output_parsers/json.py:212\u001b[0m, in \u001b[0;36mJsonOutputParser.parse_result\u001b[0;34m(self, result, partial)\u001b[0m\n\u001b[1;32m    211\u001b[0m \u001b[38;5;28;01mtry\u001b[39;00m:\n\u001b[0;32m--> 212\u001b[0m     \u001b[38;5;28;01mreturn\u001b[39;00m \u001b[43mparse_json_markdown\u001b[49m\u001b[43m(\u001b[49m\u001b[43mtext\u001b[49m\u001b[43m)\u001b[49m\n\u001b[1;32m    213\u001b[0m \u001b[38;5;28;01mexcept\u001b[39;00m JSONDecodeError \u001b[38;5;28;01mas\u001b[39;00m e:\n",
      "File \u001b[0;32m~/Python-env/LLM2/lib/python3.10/site-packages/langchain_core/output_parsers/json.py:157\u001b[0m, in \u001b[0;36mparse_json_markdown\u001b[0;34m(json_string, parser)\u001b[0m\n\u001b[1;32m    156\u001b[0m \u001b[38;5;66;03m# Parse the JSON string into a Python dictionary\u001b[39;00m\n\u001b[0;32m--> 157\u001b[0m parsed \u001b[38;5;241m=\u001b[39m \u001b[43mparser\u001b[49m\u001b[43m(\u001b[49m\u001b[43mjson_str\u001b[49m\u001b[43m)\u001b[49m\n\u001b[1;32m    159\u001b[0m \u001b[38;5;28;01mreturn\u001b[39;00m parsed\n",
      "File \u001b[0;32m~/Python-env/LLM2/lib/python3.10/site-packages/langchain_core/output_parsers/json.py:125\u001b[0m, in \u001b[0;36mparse_partial_json\u001b[0;34m(s, strict)\u001b[0m\n\u001b[1;32m    122\u001b[0m \u001b[38;5;66;03m# If we got here, we ran out of characters to remove\u001b[39;00m\n\u001b[1;32m    123\u001b[0m \u001b[38;5;66;03m# and still couldn't parse the string as JSON, so return the parse error\u001b[39;00m\n\u001b[1;32m    124\u001b[0m \u001b[38;5;66;03m# for the original string.\u001b[39;00m\n\u001b[0;32m--> 125\u001b[0m \u001b[38;5;28;01mreturn\u001b[39;00m \u001b[43mjson\u001b[49m\u001b[38;5;241;43m.\u001b[39;49m\u001b[43mloads\u001b[49m\u001b[43m(\u001b[49m\u001b[43ms\u001b[49m\u001b[43m,\u001b[49m\u001b[43m \u001b[49m\u001b[43mstrict\u001b[49m\u001b[38;5;241;43m=\u001b[39;49m\u001b[43mstrict\u001b[49m\u001b[43m)\u001b[49m\n",
      "File \u001b[0;32m/usr/lib/python3.10/json/__init__.py:359\u001b[0m, in \u001b[0;36mloads\u001b[0;34m(s, cls, object_hook, parse_float, parse_int, parse_constant, object_pairs_hook, **kw)\u001b[0m\n\u001b[1;32m    358\u001b[0m     kw[\u001b[38;5;124m'\u001b[39m\u001b[38;5;124mparse_constant\u001b[39m\u001b[38;5;124m'\u001b[39m] \u001b[38;5;241m=\u001b[39m parse_constant\n\u001b[0;32m--> 359\u001b[0m \u001b[38;5;28;01mreturn\u001b[39;00m \u001b[38;5;28;43mcls\u001b[39;49m\u001b[43m(\u001b[49m\u001b[38;5;241;43m*\u001b[39;49m\u001b[38;5;241;43m*\u001b[39;49m\u001b[43mkw\u001b[49m\u001b[43m)\u001b[49m\u001b[38;5;241;43m.\u001b[39;49m\u001b[43mdecode\u001b[49m\u001b[43m(\u001b[49m\u001b[43ms\u001b[49m\u001b[43m)\u001b[49m\n",
      "File \u001b[0;32m/usr/lib/python3.10/json/decoder.py:337\u001b[0m, in \u001b[0;36mJSONDecoder.decode\u001b[0;34m(self, s, _w)\u001b[0m\n\u001b[1;32m    333\u001b[0m \u001b[38;5;250m\u001b[39m\u001b[38;5;124;03m\"\"\"Return the Python representation of ``s`` (a ``str`` instance\u001b[39;00m\n\u001b[1;32m    334\u001b[0m \u001b[38;5;124;03mcontaining a JSON document).\u001b[39;00m\n\u001b[1;32m    335\u001b[0m \n\u001b[1;32m    336\u001b[0m \u001b[38;5;124;03m\"\"\"\u001b[39;00m\n\u001b[0;32m--> 337\u001b[0m obj, end \u001b[38;5;241m=\u001b[39m \u001b[38;5;28;43mself\u001b[39;49m\u001b[38;5;241;43m.\u001b[39;49m\u001b[43mraw_decode\u001b[49m\u001b[43m(\u001b[49m\u001b[43ms\u001b[49m\u001b[43m,\u001b[49m\u001b[43m \u001b[49m\u001b[43midx\u001b[49m\u001b[38;5;241;43m=\u001b[39;49m\u001b[43m_w\u001b[49m\u001b[43m(\u001b[49m\u001b[43ms\u001b[49m\u001b[43m,\u001b[49m\u001b[43m \u001b[49m\u001b[38;5;241;43m0\u001b[39;49m\u001b[43m)\u001b[49m\u001b[38;5;241;43m.\u001b[39;49m\u001b[43mend\u001b[49m\u001b[43m(\u001b[49m\u001b[43m)\u001b[49m\u001b[43m)\u001b[49m\n\u001b[1;32m    338\u001b[0m end \u001b[38;5;241m=\u001b[39m _w(s, end)\u001b[38;5;241m.\u001b[39mend()\n",
      "File \u001b[0;32m/usr/lib/python3.10/json/decoder.py:355\u001b[0m, in \u001b[0;36mJSONDecoder.raw_decode\u001b[0;34m(self, s, idx)\u001b[0m\n\u001b[1;32m    354\u001b[0m \u001b[38;5;28;01mexcept\u001b[39;00m \u001b[38;5;167;01mStopIteration\u001b[39;00m \u001b[38;5;28;01mas\u001b[39;00m err:\n\u001b[0;32m--> 355\u001b[0m     \u001b[38;5;28;01mraise\u001b[39;00m JSONDecodeError(\u001b[38;5;124m\"\u001b[39m\u001b[38;5;124mExpecting value\u001b[39m\u001b[38;5;124m\"\u001b[39m, s, err\u001b[38;5;241m.\u001b[39mvalue) \u001b[38;5;28;01mfrom\u001b[39;00m \u001b[38;5;28;01mNone\u001b[39;00m\n\u001b[1;32m    356\u001b[0m \u001b[38;5;28;01mreturn\u001b[39;00m obj, end\n",
      "\u001b[0;31mJSONDecodeError\u001b[0m: Expecting value: line 1 column 1 (char 0)",
      "\nThe above exception was the direct cause of the following exception:\n",
      "\u001b[0;31mOutputParserException\u001b[0m                     Traceback (most recent call last)",
      "Cell \u001b[0;32mIn[40], line 44\u001b[0m\n\u001b[1;32m     39\u001b[0m retriever \u001b[38;5;241m=\u001b[39m MultiQueryRetriever(\n\u001b[1;32m     40\u001b[0m     retriever\u001b[38;5;241m=\u001b[39mRobotInfo\u001b[38;5;241m.\u001b[39mdb\u001b[38;5;241m.\u001b[39mas_retriever(), llm_chain\u001b[38;5;241m=\u001b[39mllm_chain, parser_key\u001b[38;5;241m=\u001b[39m\u001b[38;5;124m\"\u001b[39m\u001b[38;5;124mlines\u001b[39m\u001b[38;5;124m\"\u001b[39m\n\u001b[1;32m     41\u001b[0m )  \u001b[38;5;66;03m# \"lines\" is the key (attribute name) of the parsed output\u001b[39;00m\n\u001b[1;32m     43\u001b[0m \u001b[38;5;66;03m# Results\u001b[39;00m\n\u001b[0;32m---> 44\u001b[0m unique_docs \u001b[38;5;241m=\u001b[39m \u001b[43mretriever\u001b[49m\u001b[38;5;241;43m.\u001b[39;49m\u001b[43mget_relevant_documents\u001b[49m\u001b[43m(\u001b[49m\n\u001b[1;32m     45\u001b[0m \u001b[43m    \u001b[49m\u001b[43mquery\u001b[49m\u001b[38;5;241;43m=\u001b[39;49m\u001b[38;5;124;43m\"\u001b[39;49m\u001b[38;5;124;43mchuyến đi tạo mặt trận của Bác nằm ở trang mấy\u001b[39;49m\u001b[38;5;124;43m\"\u001b[39;49m\n\u001b[1;32m     46\u001b[0m \u001b[43m)\u001b[49m\n\u001b[1;32m     48\u001b[0m \u001b[38;5;28mlen\u001b[39m(unique_docs)\n",
      "File \u001b[0;32m~/Python-env/LLM2/lib/python3.10/site-packages/langchain_core/retrievers.py:245\u001b[0m, in \u001b[0;36mBaseRetriever.get_relevant_documents\u001b[0;34m(self, query, callbacks, tags, metadata, run_name, **kwargs)\u001b[0m\n\u001b[1;32m    243\u001b[0m \u001b[38;5;28;01mexcept\u001b[39;00m \u001b[38;5;167;01mException\u001b[39;00m \u001b[38;5;28;01mas\u001b[39;00m e:\n\u001b[1;32m    244\u001b[0m     run_manager\u001b[38;5;241m.\u001b[39mon_retriever_error(e)\n\u001b[0;32m--> 245\u001b[0m     \u001b[38;5;28;01mraise\u001b[39;00m e\n\u001b[1;32m    246\u001b[0m \u001b[38;5;28;01melse\u001b[39;00m:\n\u001b[1;32m    247\u001b[0m     run_manager\u001b[38;5;241m.\u001b[39mon_retriever_end(\n\u001b[1;32m    248\u001b[0m         result,\n\u001b[1;32m    249\u001b[0m     )\n",
      "File \u001b[0;32m~/Python-env/LLM2/lib/python3.10/site-packages/langchain_core/retrievers.py:238\u001b[0m, in \u001b[0;36mBaseRetriever.get_relevant_documents\u001b[0;34m(self, query, callbacks, tags, metadata, run_name, **kwargs)\u001b[0m\n\u001b[1;32m    236\u001b[0m _kwargs \u001b[38;5;241m=\u001b[39m kwargs \u001b[38;5;28;01mif\u001b[39;00m \u001b[38;5;28mself\u001b[39m\u001b[38;5;241m.\u001b[39m_expects_other_args \u001b[38;5;28;01melse\u001b[39;00m {}\n\u001b[1;32m    237\u001b[0m \u001b[38;5;28;01mif\u001b[39;00m \u001b[38;5;28mself\u001b[39m\u001b[38;5;241m.\u001b[39m_new_arg_supported:\n\u001b[0;32m--> 238\u001b[0m     result \u001b[38;5;241m=\u001b[39m \u001b[38;5;28;43mself\u001b[39;49m\u001b[38;5;241;43m.\u001b[39;49m\u001b[43m_get_relevant_documents\u001b[49m\u001b[43m(\u001b[49m\n\u001b[1;32m    239\u001b[0m \u001b[43m        \u001b[49m\u001b[43mquery\u001b[49m\u001b[43m,\u001b[49m\u001b[43m \u001b[49m\u001b[43mrun_manager\u001b[49m\u001b[38;5;241;43m=\u001b[39;49m\u001b[43mrun_manager\u001b[49m\u001b[43m,\u001b[49m\u001b[43m \u001b[49m\u001b[38;5;241;43m*\u001b[39;49m\u001b[38;5;241;43m*\u001b[39;49m\u001b[43m_kwargs\u001b[49m\n\u001b[1;32m    240\u001b[0m \u001b[43m    \u001b[49m\u001b[43m)\u001b[49m\n\u001b[1;32m    241\u001b[0m \u001b[38;5;28;01melse\u001b[39;00m:\n\u001b[1;32m    242\u001b[0m     result \u001b[38;5;241m=\u001b[39m \u001b[38;5;28mself\u001b[39m\u001b[38;5;241m.\u001b[39m_get_relevant_documents(query, \u001b[38;5;241m*\u001b[39m\u001b[38;5;241m*\u001b[39m_kwargs)\n",
      "File \u001b[0;32m~/Python-env/LLM2/lib/python3.10/site-packages/langchain/retrievers/multi_query.py:161\u001b[0m, in \u001b[0;36mMultiQueryRetriever._get_relevant_documents\u001b[0;34m(self, query, run_manager)\u001b[0m\n\u001b[1;32m    147\u001b[0m \u001b[38;5;28;01mdef\u001b[39;00m \u001b[38;5;21m_get_relevant_documents\u001b[39m(\n\u001b[1;32m    148\u001b[0m     \u001b[38;5;28mself\u001b[39m,\n\u001b[1;32m    149\u001b[0m     query: \u001b[38;5;28mstr\u001b[39m,\n\u001b[1;32m    150\u001b[0m     \u001b[38;5;241m*\u001b[39m,\n\u001b[1;32m    151\u001b[0m     run_manager: CallbackManagerForRetrieverRun,\n\u001b[1;32m    152\u001b[0m ) \u001b[38;5;241m-\u001b[39m\u001b[38;5;241m>\u001b[39m List[Document]:\n\u001b[1;32m    153\u001b[0m \u001b[38;5;250m    \u001b[39m\u001b[38;5;124;03m\"\"\"Get relevant documents given a user query.\u001b[39;00m\n\u001b[1;32m    154\u001b[0m \n\u001b[1;32m    155\u001b[0m \u001b[38;5;124;03m    Args:\u001b[39;00m\n\u001b[0;32m   (...)\u001b[0m\n\u001b[1;32m    159\u001b[0m \u001b[38;5;124;03m        Unique union of relevant documents from all generated queries\u001b[39;00m\n\u001b[1;32m    160\u001b[0m \u001b[38;5;124;03m    \"\"\"\u001b[39;00m\n\u001b[0;32m--> 161\u001b[0m     queries \u001b[38;5;241m=\u001b[39m \u001b[38;5;28;43mself\u001b[39;49m\u001b[38;5;241;43m.\u001b[39;49m\u001b[43mgenerate_queries\u001b[49m\u001b[43m(\u001b[49m\u001b[43mquery\u001b[49m\u001b[43m,\u001b[49m\u001b[43m \u001b[49m\u001b[43mrun_manager\u001b[49m\u001b[43m)\u001b[49m\n\u001b[1;32m    162\u001b[0m     \u001b[38;5;28;01mif\u001b[39;00m \u001b[38;5;28mself\u001b[39m\u001b[38;5;241m.\u001b[39minclude_original:\n\u001b[1;32m    163\u001b[0m         queries\u001b[38;5;241m.\u001b[39mappend(query)\n",
      "File \u001b[0;32m~/Python-env/LLM2/lib/python3.10/site-packages/langchain/retrievers/multi_query.py:178\u001b[0m, in \u001b[0;36mMultiQueryRetriever.generate_queries\u001b[0;34m(self, question, run_manager)\u001b[0m\n\u001b[1;32m    167\u001b[0m \u001b[38;5;28;01mdef\u001b[39;00m \u001b[38;5;21mgenerate_queries\u001b[39m(\n\u001b[1;32m    168\u001b[0m     \u001b[38;5;28mself\u001b[39m, question: \u001b[38;5;28mstr\u001b[39m, run_manager: CallbackManagerForRetrieverRun\n\u001b[1;32m    169\u001b[0m ) \u001b[38;5;241m-\u001b[39m\u001b[38;5;241m>\u001b[39m List[\u001b[38;5;28mstr\u001b[39m]:\n\u001b[1;32m    170\u001b[0m \u001b[38;5;250m    \u001b[39m\u001b[38;5;124;03m\"\"\"Generate queries based upon user input.\u001b[39;00m\n\u001b[1;32m    171\u001b[0m \n\u001b[1;32m    172\u001b[0m \u001b[38;5;124;03m    Args:\u001b[39;00m\n\u001b[0;32m   (...)\u001b[0m\n\u001b[1;32m    176\u001b[0m \u001b[38;5;124;03m        List of LLM generated queries that are similar to the user input\u001b[39;00m\n\u001b[1;32m    177\u001b[0m \u001b[38;5;124;03m    \"\"\"\u001b[39;00m\n\u001b[0;32m--> 178\u001b[0m     response \u001b[38;5;241m=\u001b[39m \u001b[38;5;28;43mself\u001b[39;49m\u001b[38;5;241;43m.\u001b[39;49m\u001b[43mllm_chain\u001b[49m\u001b[43m(\u001b[49m\n\u001b[1;32m    179\u001b[0m \u001b[43m        \u001b[49m\u001b[43m{\u001b[49m\u001b[38;5;124;43m\"\u001b[39;49m\u001b[38;5;124;43mquestion\u001b[39;49m\u001b[38;5;124;43m\"\u001b[39;49m\u001b[43m:\u001b[49m\u001b[43m \u001b[49m\u001b[43mquestion\u001b[49m\u001b[43m}\u001b[49m\u001b[43m,\u001b[49m\u001b[43m \u001b[49m\u001b[43mcallbacks\u001b[49m\u001b[38;5;241;43m=\u001b[39;49m\u001b[43mrun_manager\u001b[49m\u001b[38;5;241;43m.\u001b[39;49m\u001b[43mget_child\u001b[49m\u001b[43m(\u001b[49m\u001b[43m)\u001b[49m\n\u001b[1;32m    180\u001b[0m \u001b[43m    \u001b[49m\u001b[43m)\u001b[49m\n\u001b[1;32m    181\u001b[0m     lines \u001b[38;5;241m=\u001b[39m response[\u001b[38;5;124m\"\u001b[39m\u001b[38;5;124mtext\u001b[39m\u001b[38;5;124m\"\u001b[39m]\n\u001b[1;32m    182\u001b[0m     \u001b[38;5;28;01mif\u001b[39;00m \u001b[38;5;28mself\u001b[39m\u001b[38;5;241m.\u001b[39mverbose:\n",
      "File \u001b[0;32m~/Python-env/LLM2/lib/python3.10/site-packages/langchain_core/_api/deprecation.py:145\u001b[0m, in \u001b[0;36mdeprecated.<locals>.deprecate.<locals>.warning_emitting_wrapper\u001b[0;34m(*args, **kwargs)\u001b[0m\n\u001b[1;32m    143\u001b[0m     warned \u001b[38;5;241m=\u001b[39m \u001b[38;5;28;01mTrue\u001b[39;00m\n\u001b[1;32m    144\u001b[0m     emit_warning()\n\u001b[0;32m--> 145\u001b[0m \u001b[38;5;28;01mreturn\u001b[39;00m \u001b[43mwrapped\u001b[49m\u001b[43m(\u001b[49m\u001b[38;5;241;43m*\u001b[39;49m\u001b[43margs\u001b[49m\u001b[43m,\u001b[49m\u001b[43m \u001b[49m\u001b[38;5;241;43m*\u001b[39;49m\u001b[38;5;241;43m*\u001b[39;49m\u001b[43mkwargs\u001b[49m\u001b[43m)\u001b[49m\n",
      "File \u001b[0;32m~/Python-env/LLM2/lib/python3.10/site-packages/langchain/chains/base.py:378\u001b[0m, in \u001b[0;36mChain.__call__\u001b[0;34m(self, inputs, return_only_outputs, callbacks, tags, metadata, run_name, include_run_info)\u001b[0m\n\u001b[1;32m    346\u001b[0m \u001b[38;5;250m\u001b[39m\u001b[38;5;124;03m\"\"\"Execute the chain.\u001b[39;00m\n\u001b[1;32m    347\u001b[0m \n\u001b[1;32m    348\u001b[0m \u001b[38;5;124;03mArgs:\u001b[39;00m\n\u001b[0;32m   (...)\u001b[0m\n\u001b[1;32m    369\u001b[0m \u001b[38;5;124;03m        `Chain.output_keys`.\u001b[39;00m\n\u001b[1;32m    370\u001b[0m \u001b[38;5;124;03m\"\"\"\u001b[39;00m\n\u001b[1;32m    371\u001b[0m config \u001b[38;5;241m=\u001b[39m {\n\u001b[1;32m    372\u001b[0m     \u001b[38;5;124m\"\u001b[39m\u001b[38;5;124mcallbacks\u001b[39m\u001b[38;5;124m\"\u001b[39m: callbacks,\n\u001b[1;32m    373\u001b[0m     \u001b[38;5;124m\"\u001b[39m\u001b[38;5;124mtags\u001b[39m\u001b[38;5;124m\"\u001b[39m: tags,\n\u001b[1;32m    374\u001b[0m     \u001b[38;5;124m\"\u001b[39m\u001b[38;5;124mmetadata\u001b[39m\u001b[38;5;124m\"\u001b[39m: metadata,\n\u001b[1;32m    375\u001b[0m     \u001b[38;5;124m\"\u001b[39m\u001b[38;5;124mrun_name\u001b[39m\u001b[38;5;124m\"\u001b[39m: run_name,\n\u001b[1;32m    376\u001b[0m }\n\u001b[0;32m--> 378\u001b[0m \u001b[38;5;28;01mreturn\u001b[39;00m \u001b[38;5;28;43mself\u001b[39;49m\u001b[38;5;241;43m.\u001b[39;49m\u001b[43minvoke\u001b[49m\u001b[43m(\u001b[49m\n\u001b[1;32m    379\u001b[0m \u001b[43m    \u001b[49m\u001b[43minputs\u001b[49m\u001b[43m,\u001b[49m\n\u001b[1;32m    380\u001b[0m \u001b[43m    \u001b[49m\u001b[43mcast\u001b[49m\u001b[43m(\u001b[49m\u001b[43mRunnableConfig\u001b[49m\u001b[43m,\u001b[49m\u001b[43m \u001b[49m\u001b[43m{\u001b[49m\u001b[43mk\u001b[49m\u001b[43m:\u001b[49m\u001b[43m \u001b[49m\u001b[43mv\u001b[49m\u001b[43m \u001b[49m\u001b[38;5;28;43;01mfor\u001b[39;49;00m\u001b[43m \u001b[49m\u001b[43mk\u001b[49m\u001b[43m,\u001b[49m\u001b[43m \u001b[49m\u001b[43mv\u001b[49m\u001b[43m \u001b[49m\u001b[38;5;129;43;01min\u001b[39;49;00m\u001b[43m \u001b[49m\u001b[43mconfig\u001b[49m\u001b[38;5;241;43m.\u001b[39;49m\u001b[43mitems\u001b[49m\u001b[43m(\u001b[49m\u001b[43m)\u001b[49m\u001b[43m \u001b[49m\u001b[38;5;28;43;01mif\u001b[39;49;00m\u001b[43m \u001b[49m\u001b[43mv\u001b[49m\u001b[43m \u001b[49m\u001b[38;5;129;43;01mis\u001b[39;49;00m\u001b[43m \u001b[49m\u001b[38;5;129;43;01mnot\u001b[39;49;00m\u001b[43m \u001b[49m\u001b[38;5;28;43;01mNone\u001b[39;49;00m\u001b[43m}\u001b[49m\u001b[43m)\u001b[49m\u001b[43m,\u001b[49m\n\u001b[1;32m    381\u001b[0m \u001b[43m    \u001b[49m\u001b[43mreturn_only_outputs\u001b[49m\u001b[38;5;241;43m=\u001b[39;49m\u001b[43mreturn_only_outputs\u001b[49m\u001b[43m,\u001b[49m\n\u001b[1;32m    382\u001b[0m \u001b[43m    \u001b[49m\u001b[43minclude_run_info\u001b[49m\u001b[38;5;241;43m=\u001b[39;49m\u001b[43minclude_run_info\u001b[49m\u001b[43m,\u001b[49m\n\u001b[1;32m    383\u001b[0m \u001b[43m\u001b[49m\u001b[43m)\u001b[49m\n",
      "File \u001b[0;32m~/Python-env/LLM2/lib/python3.10/site-packages/langchain/chains/base.py:163\u001b[0m, in \u001b[0;36mChain.invoke\u001b[0;34m(self, input, config, **kwargs)\u001b[0m\n\u001b[1;32m    161\u001b[0m \u001b[38;5;28;01mexcept\u001b[39;00m \u001b[38;5;167;01mBaseException\u001b[39;00m \u001b[38;5;28;01mas\u001b[39;00m e:\n\u001b[1;32m    162\u001b[0m     run_manager\u001b[38;5;241m.\u001b[39mon_chain_error(e)\n\u001b[0;32m--> 163\u001b[0m     \u001b[38;5;28;01mraise\u001b[39;00m e\n\u001b[1;32m    164\u001b[0m run_manager\u001b[38;5;241m.\u001b[39mon_chain_end(outputs)\n\u001b[1;32m    166\u001b[0m \u001b[38;5;28;01mif\u001b[39;00m include_run_info:\n",
      "File \u001b[0;32m~/Python-env/LLM2/lib/python3.10/site-packages/langchain/chains/base.py:153\u001b[0m, in \u001b[0;36mChain.invoke\u001b[0;34m(self, input, config, **kwargs)\u001b[0m\n\u001b[1;32m    150\u001b[0m \u001b[38;5;28;01mtry\u001b[39;00m:\n\u001b[1;32m    151\u001b[0m     \u001b[38;5;28mself\u001b[39m\u001b[38;5;241m.\u001b[39m_validate_inputs(inputs)\n\u001b[1;32m    152\u001b[0m     outputs \u001b[38;5;241m=\u001b[39m (\n\u001b[0;32m--> 153\u001b[0m         \u001b[38;5;28;43mself\u001b[39;49m\u001b[38;5;241;43m.\u001b[39;49m\u001b[43m_call\u001b[49m\u001b[43m(\u001b[49m\u001b[43minputs\u001b[49m\u001b[43m,\u001b[49m\u001b[43m \u001b[49m\u001b[43mrun_manager\u001b[49m\u001b[38;5;241;43m=\u001b[39;49m\u001b[43mrun_manager\u001b[49m\u001b[43m)\u001b[49m\n\u001b[1;32m    154\u001b[0m         \u001b[38;5;28;01mif\u001b[39;00m new_arg_supported\n\u001b[1;32m    155\u001b[0m         \u001b[38;5;28;01melse\u001b[39;00m \u001b[38;5;28mself\u001b[39m\u001b[38;5;241m.\u001b[39m_call(inputs)\n\u001b[1;32m    156\u001b[0m     )\n\u001b[1;32m    158\u001b[0m     final_outputs: Dict[\u001b[38;5;28mstr\u001b[39m, Any] \u001b[38;5;241m=\u001b[39m \u001b[38;5;28mself\u001b[39m\u001b[38;5;241m.\u001b[39mprep_outputs(\n\u001b[1;32m    159\u001b[0m         inputs, outputs, return_only_outputs\n\u001b[1;32m    160\u001b[0m     )\n\u001b[1;32m    161\u001b[0m \u001b[38;5;28;01mexcept\u001b[39;00m \u001b[38;5;167;01mBaseException\u001b[39;00m \u001b[38;5;28;01mas\u001b[39;00m e:\n",
      "File \u001b[0;32m~/Python-env/LLM2/lib/python3.10/site-packages/langchain/chains/llm.py:104\u001b[0m, in \u001b[0;36mLLMChain._call\u001b[0;34m(self, inputs, run_manager)\u001b[0m\n\u001b[1;32m     98\u001b[0m \u001b[38;5;28;01mdef\u001b[39;00m \u001b[38;5;21m_call\u001b[39m(\n\u001b[1;32m     99\u001b[0m     \u001b[38;5;28mself\u001b[39m,\n\u001b[1;32m    100\u001b[0m     inputs: Dict[\u001b[38;5;28mstr\u001b[39m, Any],\n\u001b[1;32m    101\u001b[0m     run_manager: Optional[CallbackManagerForChainRun] \u001b[38;5;241m=\u001b[39m \u001b[38;5;28;01mNone\u001b[39;00m,\n\u001b[1;32m    102\u001b[0m ) \u001b[38;5;241m-\u001b[39m\u001b[38;5;241m>\u001b[39m Dict[\u001b[38;5;28mstr\u001b[39m, \u001b[38;5;28mstr\u001b[39m]:\n\u001b[1;32m    103\u001b[0m     response \u001b[38;5;241m=\u001b[39m \u001b[38;5;28mself\u001b[39m\u001b[38;5;241m.\u001b[39mgenerate([inputs], run_manager\u001b[38;5;241m=\u001b[39mrun_manager)\n\u001b[0;32m--> 104\u001b[0m     \u001b[38;5;28;01mreturn\u001b[39;00m \u001b[38;5;28;43mself\u001b[39;49m\u001b[38;5;241;43m.\u001b[39;49m\u001b[43mcreate_outputs\u001b[49m\u001b[43m(\u001b[49m\u001b[43mresponse\u001b[49m\u001b[43m)\u001b[49m[\u001b[38;5;241m0\u001b[39m]\n",
      "File \u001b[0;32m~/Python-env/LLM2/lib/python3.10/site-packages/langchain/chains/llm.py:258\u001b[0m, in \u001b[0;36mLLMChain.create_outputs\u001b[0;34m(self, llm_result)\u001b[0m\n\u001b[1;32m    256\u001b[0m \u001b[38;5;28;01mdef\u001b[39;00m \u001b[38;5;21mcreate_outputs\u001b[39m(\u001b[38;5;28mself\u001b[39m, llm_result: LLMResult) \u001b[38;5;241m-\u001b[39m\u001b[38;5;241m>\u001b[39m List[Dict[\u001b[38;5;28mstr\u001b[39m, Any]]:\n\u001b[1;32m    257\u001b[0m \u001b[38;5;250m    \u001b[39m\u001b[38;5;124;03m\"\"\"Create outputs from response.\"\"\"\u001b[39;00m\n\u001b[0;32m--> 258\u001b[0m     result \u001b[38;5;241m=\u001b[39m [\n\u001b[1;32m    259\u001b[0m         \u001b[38;5;66;03m# Get the text of the top generated string.\u001b[39;00m\n\u001b[1;32m    260\u001b[0m         {\n\u001b[1;32m    261\u001b[0m             \u001b[38;5;28mself\u001b[39m\u001b[38;5;241m.\u001b[39moutput_key: \u001b[38;5;28mself\u001b[39m\u001b[38;5;241m.\u001b[39moutput_parser\u001b[38;5;241m.\u001b[39mparse_result(generation),\n\u001b[1;32m    262\u001b[0m             \u001b[38;5;124m\"\u001b[39m\u001b[38;5;124mfull_generation\u001b[39m\u001b[38;5;124m\"\u001b[39m: generation,\n\u001b[1;32m    263\u001b[0m         }\n\u001b[1;32m    264\u001b[0m         \u001b[38;5;28;01mfor\u001b[39;00m generation \u001b[38;5;129;01min\u001b[39;00m llm_result\u001b[38;5;241m.\u001b[39mgenerations\n\u001b[1;32m    265\u001b[0m     ]\n\u001b[1;32m    266\u001b[0m     \u001b[38;5;28;01mif\u001b[39;00m \u001b[38;5;28mself\u001b[39m\u001b[38;5;241m.\u001b[39mreturn_final_only:\n\u001b[1;32m    267\u001b[0m         result \u001b[38;5;241m=\u001b[39m [{\u001b[38;5;28mself\u001b[39m\u001b[38;5;241m.\u001b[39moutput_key: r[\u001b[38;5;28mself\u001b[39m\u001b[38;5;241m.\u001b[39moutput_key]} \u001b[38;5;28;01mfor\u001b[39;00m r \u001b[38;5;129;01min\u001b[39;00m result]\n",
      "File \u001b[0;32m~/Python-env/LLM2/lib/python3.10/site-packages/langchain/chains/llm.py:261\u001b[0m, in \u001b[0;36m<listcomp>\u001b[0;34m(.0)\u001b[0m\n\u001b[1;32m    256\u001b[0m \u001b[38;5;28;01mdef\u001b[39;00m \u001b[38;5;21mcreate_outputs\u001b[39m(\u001b[38;5;28mself\u001b[39m, llm_result: LLMResult) \u001b[38;5;241m-\u001b[39m\u001b[38;5;241m>\u001b[39m List[Dict[\u001b[38;5;28mstr\u001b[39m, Any]]:\n\u001b[1;32m    257\u001b[0m \u001b[38;5;250m    \u001b[39m\u001b[38;5;124;03m\"\"\"Create outputs from response.\"\"\"\u001b[39;00m\n\u001b[1;32m    258\u001b[0m     result \u001b[38;5;241m=\u001b[39m [\n\u001b[1;32m    259\u001b[0m         \u001b[38;5;66;03m# Get the text of the top generated string.\u001b[39;00m\n\u001b[1;32m    260\u001b[0m         {\n\u001b[0;32m--> 261\u001b[0m             \u001b[38;5;28mself\u001b[39m\u001b[38;5;241m.\u001b[39moutput_key: \u001b[38;5;28;43mself\u001b[39;49m\u001b[38;5;241;43m.\u001b[39;49m\u001b[43moutput_parser\u001b[49m\u001b[38;5;241;43m.\u001b[39;49m\u001b[43mparse_result\u001b[49m\u001b[43m(\u001b[49m\u001b[43mgeneration\u001b[49m\u001b[43m)\u001b[49m,\n\u001b[1;32m    262\u001b[0m             \u001b[38;5;124m\"\u001b[39m\u001b[38;5;124mfull_generation\u001b[39m\u001b[38;5;124m\"\u001b[39m: generation,\n\u001b[1;32m    263\u001b[0m         }\n\u001b[1;32m    264\u001b[0m         \u001b[38;5;28;01mfor\u001b[39;00m generation \u001b[38;5;129;01min\u001b[39;00m llm_result\u001b[38;5;241m.\u001b[39mgenerations\n\u001b[1;32m    265\u001b[0m     ]\n\u001b[1;32m    266\u001b[0m     \u001b[38;5;28;01mif\u001b[39;00m \u001b[38;5;28mself\u001b[39m\u001b[38;5;241m.\u001b[39mreturn_final_only:\n\u001b[1;32m    267\u001b[0m         result \u001b[38;5;241m=\u001b[39m [{\u001b[38;5;28mself\u001b[39m\u001b[38;5;241m.\u001b[39moutput_key: r[\u001b[38;5;28mself\u001b[39m\u001b[38;5;241m.\u001b[39moutput_key]} \u001b[38;5;28;01mfor\u001b[39;00m r \u001b[38;5;129;01min\u001b[39;00m result]\n",
      "File \u001b[0;32m~/Python-env/LLM2/lib/python3.10/site-packages/langchain_core/output_parsers/pydantic.py:25\u001b[0m, in \u001b[0;36mPydanticOutputParser.parse_result\u001b[0;34m(self, result, partial)\u001b[0m\n\u001b[1;32m     22\u001b[0m \u001b[38;5;28;01mdef\u001b[39;00m \u001b[38;5;21mparse_result\u001b[39m(\n\u001b[1;32m     23\u001b[0m     \u001b[38;5;28mself\u001b[39m, result: List[Generation], \u001b[38;5;241m*\u001b[39m, partial: \u001b[38;5;28mbool\u001b[39m \u001b[38;5;241m=\u001b[39m \u001b[38;5;28;01mFalse\u001b[39;00m\n\u001b[1;32m     24\u001b[0m ) \u001b[38;5;241m-\u001b[39m\u001b[38;5;241m>\u001b[39m TBaseModel:\n\u001b[0;32m---> 25\u001b[0m     json_object \u001b[38;5;241m=\u001b[39m \u001b[38;5;28;43msuper\u001b[39;49m\u001b[43m(\u001b[49m\u001b[43m)\u001b[49m\u001b[38;5;241;43m.\u001b[39;49m\u001b[43mparse_result\u001b[49m\u001b[43m(\u001b[49m\u001b[43mresult\u001b[49m\u001b[43m)\u001b[49m\n\u001b[1;32m     26\u001b[0m     \u001b[38;5;28;01mtry\u001b[39;00m:\n\u001b[1;32m     27\u001b[0m         \u001b[38;5;28;01mreturn\u001b[39;00m \u001b[38;5;28mself\u001b[39m\u001b[38;5;241m.\u001b[39mpydantic_object\u001b[38;5;241m.\u001b[39mparse_obj(json_object)\n",
      "File \u001b[0;32m~/Python-env/LLM2/lib/python3.10/site-packages/langchain_core/output_parsers/json.py:215\u001b[0m, in \u001b[0;36mJsonOutputParser.parse_result\u001b[0;34m(self, result, partial)\u001b[0m\n\u001b[1;32m    213\u001b[0m \u001b[38;5;28;01mexcept\u001b[39;00m JSONDecodeError \u001b[38;5;28;01mas\u001b[39;00m e:\n\u001b[1;32m    214\u001b[0m     msg \u001b[38;5;241m=\u001b[39m \u001b[38;5;124mf\u001b[39m\u001b[38;5;124m\"\u001b[39m\u001b[38;5;124mInvalid json output: \u001b[39m\u001b[38;5;132;01m{\u001b[39;00mtext\u001b[38;5;132;01m}\u001b[39;00m\u001b[38;5;124m\"\u001b[39m\n\u001b[0;32m--> 215\u001b[0m     \u001b[38;5;28;01mraise\u001b[39;00m OutputParserException(msg, llm_output\u001b[38;5;241m=\u001b[39mtext) \u001b[38;5;28;01mfrom\u001b[39;00m \u001b[38;5;21;01me\u001b[39;00m\n",
      "\u001b[0;31mOutputParserException\u001b[0m: Invalid json output: Xin lỗi, tôi không thể trả lời câu hỏi này vì không có đủ thông tin về cuốn sách \"Chuyến đi tạo mặt trận của Bác\". Bạn có thể cung cấp thêm thông tin như tác giả, năm xuất bản hoặc nhà xuất bản để tôi có thể tìm kiếm thông tin chính xác hơn không?"
     ]
    }
   ],
   "source": [
    "from typing import List\n",
    "from langchain import LLMChain\n",
    "from pydantic import BaseModel, Field\n",
    "from langchain.prompts import PromptTemplate\n",
    "from langchain.output_parsers import PydanticOutputParser\n",
    "\n",
    "\n",
    "# Output parser will split the LLM result into a list of queries\n",
    "class LineList(BaseModel):\n",
    "    # \"lines\" is the key (attribute name) of the parsed output\n",
    "    lines: List[str] = Field(description=\"Lines of text\")\n",
    "\n",
    "\n",
    "class LineListOutputParser(PydanticOutputParser):\n",
    "    def __init__(self) -> None:\n",
    "        super().__init__(pydantic_object=LineList)\n",
    "\n",
    "    def parse(self, text: str) -> LineList:\n",
    "        lines = text.strip().split(\"\\n\")\n",
    "        return LineList(lines=lines)\n",
    "\n",
    "\n",
    "output_parser = LineListOutputParser()\n",
    "\n",
    "QUERY_PROMPT = PromptTemplate(\n",
    "    input_variables=[\"question\"],\n",
    "    template=\"\"\"Bạn là một người trợ lí thông minh trong thư viện, có thể giải đáp các thắc mắc về sách cho sinh viên. \n",
    "    Những cuốn sách trong thư viện hầu hết là viết bằng tiếng việt và có thể không có dấu. \n",
    "    .,\n",
    "    Original question: {question}\"\"\",\n",
    ")\n",
    "\n",
    "llm = ChatOpenAI(temperature=0)\n",
    "\n",
    "# Chain\n",
    "llm_chain = LLMChain(llm=llm, prompt=QUERY_PROMPT, output_parser=output_parser)\n",
    "\n",
    "# Run\n",
    "retriever = MultiQueryRetriever(\n",
    "    retriever=RobotInfo.db.as_retriever(), llm_chain=llm_chain, parser_key=\"lines\"\n",
    ")  # \"lines\" is the key (attribute name) of the parsed output\n",
    "\n",
    "# Results\n",
    "unique_docs = retriever.get_relevant_documents(\n",
    "    query=\"tác giả của chuyến đi tạo mặt trận của Bác\"\n",
    ")\n",
    "\n",
    "len(unique_docs)"
   ]
  },
  {
   "cell_type": "code",
   "execution_count": 7,
   "metadata": {},
   "outputs": [],
   "source": [
    "import json\n",
    "\n",
    "\n",
    "\n",
    "def import_author(book_title,authors):\n",
    "    with open(\"books.json\", \"r\") as read_file:\n",
    "        data = json.load(read_file)\n",
    "    for book in data[\"sách\"]:\n",
    "        if (book[\"tên sách\"] == book_title):\n",
    "            book[\"tác giả\"] = authors\n",
    "    # print(data)\n",
    "    with open(\"books.json\", \"w\", encoding=\"utf-8\") as output_file:\n",
    "        json.dump(data, output_file, indent=4, ensure_ascii=False)\n"
   ]
  },
  {
   "cell_type": "code",
   "execution_count": 8,
   "metadata": {},
   "outputs": [],
   "source": [
    "def name_book(stt):\n",
    "    if (stt == 0) :\n",
    "        return 'giáo trình cơ sở công nghệ chế tạo máy'\n",
    "    if (stt == 1):\n",
    "        return 'giáo trình lập trình python căn bản'\n",
    "    return 'các phương pháp cơ bản trong đánh giá cảm quan thực phẩm'\n",
    "    "
   ]
  },
  {
   "cell_type": "code",
   "execution_count": 13,
   "metadata": {},
   "outputs": [
    {
     "name": "stdout",
     "output_type": "stream",
     "text": [
      "File: cac_phuong_phap_co_ban_trong_danh_gia_cam_quan_thuc_pham.pdf, Page 1:\\n====================\n",
      "hello\n",
      "{'sách': [{'tên sách': 'giáo trình cơ sở công nghệ chế tạo máy', 'tác giả': [], 'lời mở đầu': 'xin chào', 'mục lục ': [{'id': 'string', 'firstname': 'dang', 'surname': 'ho van', 'motivation': 'string', 'share': 'string'}]}, {'tên sách': 'giáo trình lập trình python căn bản', 'tác giả': 'nobel', 'lời mở đầu': 'xin chào', 'laureates': [{'id': 'string', 'firstname': 'nguyen', 'surname': 'thanh', 'motivation': 'string', 'share': 'string'}]}, {'tên sách': 'các phương pháp cơ bản trong đánh giá cảm quan thực phẩm', 'tác giả': 'nobel', 'lời mở đầu': 'xin chào', 'laureates': [{'id': 'string', 'firstname': 'nguyen', 'surname': 'thanh', 'motivation': 'string', 'share': 'string'}]}]}\n",
      "File: cac_phuong_phap_co_ban_trong_danh_gia_cam_quan_thuc_pham.pdf, Page 2:\\n====================\n",
      "hello\n",
      "{'sách': [{'tên sách': 'giáo trình cơ sở công nghệ chế tạo máy', 'tác giả': ['ts. phạm thị hoàn'], 'lời mở đầu': 'xin chào', 'mục lục ': [{'id': 'string', 'firstname': 'dang', 'surname': 'ho van', 'motivation': 'string', 'share': 'string'}]}, {'tên sách': 'giáo trình lập trình python căn bản', 'tác giả': 'nobel', 'lời mở đầu': 'xin chào', 'laureates': [{'id': 'string', 'firstname': 'nguyen', 'surname': 'thanh', 'motivation': 'string', 'share': 'string'}]}, {'tên sách': 'các phương pháp cơ bản trong đánh giá cảm quan thực phẩm', 'tác giả': 'nobel', 'lời mở đầu': 'xin chào', 'laureates': [{'id': 'string', 'firstname': 'nguyen', 'surname': 'thanh', 'motivation': 'string', 'share': 'string'}]}]}\n",
      "File: gt_co_so_cong_nghe_che_tao_may.pdf, Page 1:\\n====================\n",
      "hello\n",
      "{'sách': [{'tên sách': 'giáo trình cơ sở công nghệ chế tạo máy', 'tác giả': ['ts. phạm thị hoàn'], 'lời mở đầu': 'xin chào', 'mục lục ': [{'id': 'string', 'firstname': 'dang', 'surname': 'ho van', 'motivation': 'string', 'share': 'string'}]}, {'tên sách': 'giáo trình lập trình python căn bản', 'tác giả': [], 'lời mở đầu': 'xin chào', 'laureates': [{'id': 'string', 'firstname': 'nguyen', 'surname': 'thanh', 'motivation': 'string', 'share': 'string'}]}, {'tên sách': 'các phương pháp cơ bản trong đánh giá cảm quan thực phẩm', 'tác giả': 'nobel', 'lời mở đầu': 'xin chào', 'laureates': [{'id': 'string', 'firstname': 'nguyen', 'surname': 'thanh', 'motivation': 'string', 'share': 'string'}]}]}\n",
      "File: gt_co_so_cong_nghe_che_tao_may.pdf, Page 2:\\n====================\n",
      "hello\n",
      "{'sách': [{'tên sách': 'giáo trình cơ sở công nghệ chế tạo máy', 'tác giả': ['ts. phạm thị hoàn'], 'lời mở đầu': 'xin chào', 'mục lục ': [{'id': 'string', 'firstname': 'dang', 'surname': 'ho van', 'motivation': 'string', 'share': 'string'}]}, {'tên sách': 'giáo trình lập trình python căn bản', 'tác giả': [], 'lời mở đầu': 'xin chào', 'laureates': [{'id': 'string', 'firstname': 'nguyen', 'surname': 'thanh', 'motivation': 'string', 'share': 'string'}]}, {'tên sách': 'các phương pháp cơ bản trong đánh giá cảm quan thực phẩm', 'tác giả': 'nobel', 'lời mở đầu': 'xin chào', 'laureates': [{'id': 'string', 'firstname': 'nguyen', 'surname': 'thanh', 'motivation': 'string', 'share': 'string'}]}]}\n",
      "File: gt_lap_trinh_python_can_ban.pdf, Page 1:\\n====================\n",
      "hello\n",
      "{'sách': [{'tên sách': 'giáo trình cơ sở công nghệ chế tạo máy', 'tác giả': ['ts. phạm thị hoàn'], 'lời mở đầu': 'xin chào', 'mục lục ': [{'id': 'string', 'firstname': 'dang', 'surname': 'ho van', 'motivation': 'string', 'share': 'string'}]}, {'tên sách': 'giáo trình lập trình python căn bản', 'tác giả': [], 'lời mở đầu': 'xin chào', 'laureates': [{'id': 'string', 'firstname': 'nguyen', 'surname': 'thanh', 'motivation': 'string', 'share': 'string'}]}, {'tên sách': 'các phương pháp cơ bản trong đánh giá cảm quan thực phẩm', 'tác giả': [], 'lời mở đầu': 'xin chào', 'laureates': [{'id': 'string', 'firstname': 'nguyen', 'surname': 'thanh', 'motivation': 'string', 'share': 'string'}]}]}\n",
      "File: gt_lap_trinh_python_can_ban.pdf, Page 2:\\n====================\n",
      "hello\n",
      "{'sách': [{'tên sách': 'giáo trình cơ sở công nghệ chế tạo máy', 'tác giả': ['ts. phạm thị hoàn'], 'lời mở đầu': 'xin chào', 'mục lục ': [{'id': 'string', 'firstname': 'dang', 'surname': 'ho van', 'motivation': 'string', 'share': 'string'}]}, {'tên sách': 'giáo trình lập trình python căn bản', 'tác giả': [], 'lời mở đầu': 'xin chào', 'laureates': [{'id': 'string', 'firstname': 'nguyen', 'surname': 'thanh', 'motivation': 'string', 'share': 'string'}]}, {'tên sách': 'các phương pháp cơ bản trong đánh giá cảm quan thực phẩm', 'tác giả': ['ts. trần nhật quang, ts. phạm văn khoa'], 'lời mở đầu': 'xin chào', 'laureates': [{'id': 'string', 'firstname': 'nguyen', 'surname': 'thanh', 'motivation': 'string', 'share': 'string'}]}]}\n"
     ]
    }
   ],
   "source": [
    "import os\n",
    "def find_author_in_text(text):\n",
    "    text = text.lower()\n",
    "    line_ts = [line.strip() for line in text.split('\\n') if line.strip().startswith('ts')]\n",
    "    line_ths = [line.strip() for line in text.split('\\n') if line.strip().startswith('ths')]\n",
    "    authors = (line_ts+line_ths)\n",
    "    return authors\n",
    "def extract_author_data():\n",
    "    i = 0\n",
    "    for file_name in os.listdir(folder_path):\n",
    "        file_path = os.path.join(folder_path, file_name)\n",
    "        \n",
    "    # Check if it's a PDF file\n",
    "        if file_name.endswith(\".pdf\"):\n",
    "            # Open the PDF document\n",
    "            doc = fitz.open(file_path)\n",
    "\n",
    "            # Iterate through each page in the document\n",
    "                # Get the current page\n",
    "            for page_num in range(2):\n",
    "                page = doc[page_num]\n",
    "\n",
    "                    # Extract text from the page\n",
    "                text = page.get_text(\"text\")\n",
    "                # print(text)\n",
    "\n",
    "                    # Print the text content of the page\n",
    "                print(f\"File: {file_name}, Page {page_num + 1}:\\\\n{'='*20}\")\n",
    "\n",
    "                authors = find_author_in_text(text)\n",
    "                if authors is not None:\n",
    "                    print(\"hello\")\n",
    "                    import_author(name_book(i),authors)\n",
    "            # Close the PDF document\n",
    "            doc.close()\n",
    "            i = i + 1\n",
    "extract_author_data()"
   ]
  },
  {
   "cell_type": "code",
   "execution_count": 14,
   "metadata": {},
   "outputs": [
    {
     "name": "stdout",
     "output_type": "stream",
     "text": [
      "{'sách': [{'tên sách': 'giáo trình cơ sở công nghệ chế tạo máy', 'tác giả': ['ts. phạm thị hoàn'], 'lời mở đầu': 'xin chào', 'mục lục ': [{'id': 'string', 'firstname': 'dang', 'surname': 'ho van', 'motivation': 'string', 'share': 'string'}]}, {'tên sách': 'giáo trình lập trình python căn bản', 'tác giả': [], 'lời mở đầu': 'xin chào', 'laureates': [{'id': 'string', 'firstname': 'nguyen', 'surname': 'thanh', 'motivation': 'string', 'share': 'string'}]}, {'tên sách': 'các phương pháp cơ bản trong đánh giá cảm quan thực phẩm', 'tác giả': ['ts. trần nhật quang, ts. phạm văn khoa'], 'lời mở đầu': 'xin chào', 'laureates': [{'id': 'string', 'firstname': 'nguyen', 'surname': 'thanh', 'motivation': 'string', 'share': 'string'}]}]}\n"
     ]
    }
   ],
   "source": [
    "with open(\"books.json\", \"r\") as read_file:\n",
    "        data = json.load(read_file)\n",
    "print(data)"
   ]
  },
  {
   "cell_type": "code",
   "execution_count": null,
   "metadata": {},
   "outputs": [],
   "source": []
  }
 ],
 "metadata": {
  "kernelspec": {
   "display_name": "nlp-task",
   "language": "python",
   "name": "python3"
  },
  "language_info": {
   "codemirror_mode": {
    "name": "ipython",
    "version": 3
   },
   "file_extension": ".py",
   "mimetype": "text/x-python",
   "name": "python",
   "nbconvert_exporter": "python",
   "pygments_lexer": "ipython3",
   "version": "3.10.14"
  }
 },
 "nbformat": 4,
 "nbformat_minor": 2
}
