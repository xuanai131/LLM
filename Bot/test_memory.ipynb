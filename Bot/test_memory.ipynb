{
 "cells": [
  {
   "cell_type": "code",
   "execution_count": 1,
   "metadata": {},
   "outputs": [],
   "source": [
    "from Helper_Utilities import *"
   ]
  },
  {
   "cell_type": "markdown",
   "metadata": {},
   "source": [
    "*Summary Buffer Memory*"
   ]
  },
  {
   "cell_type": "code",
   "execution_count": 19,
   "metadata": {},
   "outputs": [
    {
     "data": {
      "text/plain": [
       "'\\nThe human asks the AI what its purpose is. The AI responds that its purpose is to assist and improve human lives.'"
      ]
     },
     "execution_count": 19,
     "metadata": {},
     "output_type": "execute_result"
    }
   ],
   "source": [
    "from langchain.memory import ConversationSummaryBufferMemory\n",
    "memory = ConversationSummaryBufferMemory(\n",
    "    llm=llm, max_token_limit=10, return_messages=True\n",
    ")\n",
    "memory.save_context({\"input\": \"xin chào , tôi là Dang, là kĩ sư cơ khí.\"}, {\"output\": \"chào bạn, tôi có thể giúp gì cho bạn hôm nay\"})\n",
    "memory.save_context({\"input\": \"tôi cần tìm sách Cẩm nang cơ khí\"}, {\"output\": \"cuốn sách đó nằm ở kệ số 6\"})\n",
    "messages = memory.chat_memory.messages\n",
    "previous_summary = \"\"\n",
    "memory.predict_new_summary(messages, previous_summary)"
   ]
  },
  {
   "cell_type": "markdown",
   "metadata": {},
   "source": [
    "*Knowledge Graph Memory*"
   ]
  },
  {
   "cell_type": "code",
   "execution_count": 20,
   "metadata": {},
   "outputs": [
    {
     "data": {
      "text/plain": [
       "{'history': 'On Dang: Dang is a kĩ sư cơ khí.'}"
      ]
     },
     "execution_count": 20,
     "metadata": {},
     "output_type": "execute_result"
    }
   ],
   "source": [
    "from langchain.memory import ConversationKGMemory\n",
    "from langchain_openai import OpenAI\n",
    "llm = OpenAI(temperature=0)\n",
    "memory = ConversationKGMemory(llm=llm)\n",
    "memory.save_context({\"input\": \"xin chào , tôi là Dang, là kĩ sư cơ khí.\"}, {\"output\": \"chào bạn, tôi có thể giúp gì cho bạn hôm nay\"})\n",
    "memory.save_context({\"input\": \"tôi cần tìm sách Cẩm nang cơ khí\"}, {\"output\": \"cuốn sách đó nằm ở kệ số 6\"})\n",
    "\n",
    "memory.load_memory_variables({\"input\": \"Dang là ai?\"})"
   ]
  },
  {
   "cell_type": "markdown",
   "metadata": {},
   "source": [
    "*Entity Memory*"
   ]
  },
  {
   "cell_type": "code",
   "execution_count": 2,
   "metadata": {},
   "outputs": [
    {
     "data": {
      "text/plain": [
       "{'history': 'Human: xin chào , tôi là Dang, là kĩ sư cơ khí.\\nAI: chào bạn, tôi có thể giúp gì cho bạn hôm nay\\nHuman: tôi cần tìm sách Cẩm nang cơ khí\\nAI: cuốn sách đó nằm ở kệ số 6',\n",
       " 'entities': {'Cẩm nang cơ khí': ''}}"
      ]
     },
     "execution_count": 2,
     "metadata": {},
     "output_type": "execute_result"
    }
   ],
   "source": [
    "from langchain.memory import ConversationEntityMemory\n",
    "memory = ConversationEntityMemory(llm=llm)\n",
    "_input = {\"input\": \"xin chào , tôi là Dang, là kĩ sư cơ khí.\"}\n",
    "memory.load_memory_variables(_input)\n",
    "memory.save_context(\n",
    "    _input,\n",
    "    {\"output\": \"chào bạn, tôi có thể giúp gì cho bạn hôm nay\"}\n",
    ")\n",
    "memory.save_context({\"input\": \"tôi cần tìm sách Cẩm nang cơ khí\"}, {\"output\": \"cuốn sách đó nằm ở kệ số 6\"})\n",
    "memory.load_memory_variables({\"input\": \"Cẩm nang cơ khí ở đâu?\"})"
   ]
  },
  {
   "cell_type": "markdown",
   "metadata": {},
   "source": [
    "*custom memory*"
   ]
  },
  {
   "cell_type": "code",
   "execution_count": 26,
   "metadata": {},
   "outputs": [],
   "source": [
    "from Helper_Utilities import *\n",
    "interrupt_function_def = {\n",
    "    \"name\": \"route\",\n",
    "    \"description\":\"Help to give a hint to the input\",\n",
    "    \"parameters\": {\n",
    "        \"title\": \"routeSchema\",\n",
    "        \"type\": \"object\",\n",
    "        \"properties\": {\n",
    "            \"messages\": {\n",
    "                \"title\": \"messages\",\n",
    "                \"output\": 'text',\n",
    "            }\n",
    "        },\n",
    "        \"required\": [\"messages\"],\n",
    "    },\n",
    "}\n",
    "memory_direct_prompt = ChatPromptTemplate.from_messages(\n",
    "    [\n",
    "        (\"system\", (MEMORY_DIRECT_PROMPT)),\n",
    "        # MessagesPlaceholder(variable_name=\"history\"),\n",
    "        MessagesPlaceholder(variable_name=\"messages\"),\n",
    "    ]\n",
    ")\n",
    "memory_direct_chain = (\n",
    "    memory_direct_prompt \n",
    "    | llm.bind_functions(functions=[interrupt_function_def], function_call=\"route\")\n",
    "    | JsonOutputFunctionsParser()\n",
    ")"
   ]
  },
  {
   "cell_type": "code",
   "execution_count": 29,
   "metadata": {},
   "outputs": [],
   "source": [
    "OpenAIHistoryConversation = [HumanMessage(content='tôi là Dang, là một kĩ sư cơ khí, thư viện có sách về cơ khí không'),\n",
    "AIMessage(content='Đã tìm thấy sách cơ khí bạn cần , đó là cuốn Cẩm nang cơ khí'),\n",
    "HumanMessage(content = \"tôi muôn trả sách\"),\n",
    "AIMessage(content = \"Sách đã trả: 'Lập trình python căn bản' . Quá trình trả sách đã hoàn tất, chúc bạn một ngày tốt lành\"),\n",
    "HumanMessage(content = 'cuốn sách đó có hay không?')]"
   ]
  },
  {
   "cell_type": "code",
   "execution_count": 30,
   "metadata": {},
   "outputs": [
    {
     "data": {
      "text/plain": [
       "{'messages': ['tôi muốn biết cuốn sách Lập trình python căn bản ở kệ nào?']}"
      ]
     },
     "execution_count": 30,
     "metadata": {},
     "output_type": "execute_result"
    }
   ],
   "source": [
    "memory_direct_chain.invoke({\"messages\":OpenAIHistoryConversation})"
   ]
  }
 ],
 "metadata": {
  "kernelspec": {
   "display_name": "nlp-task",
   "language": "python",
   "name": "python3"
  },
  "language_info": {
   "codemirror_mode": {
    "name": "ipython",
    "version": 3
   },
   "file_extension": ".py",
   "mimetype": "text/x-python",
   "name": "python",
   "nbconvert_exporter": "python",
   "pygments_lexer": "ipython3",
   "version": "3.10.13"
  }
 },
 "nbformat": 4,
 "nbformat_minor": 2
}
